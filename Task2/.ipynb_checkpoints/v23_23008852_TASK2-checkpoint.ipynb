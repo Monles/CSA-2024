{
 "cells": [
  {
   "cell_type": "markdown",
   "metadata": {
    "id": "H2hCaudiyF6j"
   },
   "source": [
    "<img src=\"https://pa-legg.github.io/images/uwe_banner.png\">\n",
    "\n",
    "# UFCFFY-15-M Cyber Security Analytics 23-24\n",
    "\n",
    "## Portfolio Assignment: Worksheet 2\n",
    "\n",
    "## Conduct an investigation on a URL database to develop a DGA classification system using machine learning techniques\n",
    "---\n",
    "\n",
    "For this task, the company **\"UWEtech\"** enlist your help once more. They have identified a number of suspicious URLs on their logging systems, suspecting that these URLs contain various malware, and so require your expertise to investigate these further. Specifically, they seek a machine learning approach to identify the malware families as observed on their network.\n",
    "\n",
    "You will need to develop a machine learning tool using Python and scikit-learn that can identify URLs based on [Domain Generator Algorithms (DGA)](https://blog.malwarebytes.com/security-world/2016/12/explained-domain-generating-algorithm/), widely used by command and control malware to avoid static IP blocking.\n",
    "\n",
    "You need to demonstrate experimental design of appropriate feature engineering to characterise the data, that will be used to inform your machine learning classifiers. You should show **at least two** schemes of curating appropriate features, based on the raw data as provided, and show this impacts the performance of your classifier.\n",
    "\n",
    "You are also expected to utilise **3 different classifiers** using the scikit-learn library, and show how the model parameters can impact the performance of the classifiers. It is suggested that you use a Logistic Regression, a Random Forest Classifier, and a Multi-Layer Perceptron Classifier.\n",
    "\n",
    "Finally, you should investigate the **performance and explainability** of your classifiers. It is recommended that you use the confusion matrix approach along with performance metrics, to assess how your model performs as well as when and why misclassification may occur. In reporting your findings, you should explain and reflect on this to understand which malware families are more separable, and which are more challenging to classify, using this approach. It is expected that a good performing classifier will achieve over 90% accuracy - however you will be assessed on your experimental design in finding a suitable classifier to achieve this.\n",
    "\n",
    "**Dataset**: Please see the folder ***\"Portfolio Assignment\"*** under the Assignment tab on Blackboard for further detail related to the access and download of the necessary dataset.\n",
    "\n",
    "**Hint**: You should conduct research using the [scikit-learn documentation and API reference](https://scikit-learn.org/stable/user_guide.html), making full use of the sample code that has been provided for your to help guide your research. You should also research Shapley Additive Explanations, and utilise the [online documentation](https://shap.readthedocs.io/en/latest/index.html). You should also think about a suitable means of generating input features for your classifier that capture sequential properties of text data.\n",
    "\n",
    "### Assessment and Marking\n",
    "---\n",
    "The completion of this worksheet is worth **35%** of your portfolio assignment for the UFCFFY-15-M Cyber Security Analytics (CSA) module.\n",
    "\n",
    "This is an **unguided** task that will be graded against the following core criteria:\n",
    "\n",
    "* **A clear and iterative experimental approach for developing and refining the classifier to improve performance (10 Marks)**\n",
    "  * *For the higher mark band, it would be expected that you would show an initial experimental design, and then refine this through improving the feature engineering stage, subsequently improving the model performance.*\n",
    "* **Suitable feature engineering stages demonstrating at least two different methods and their performance (10 Marks)**\n",
    "  * *For the higher mark band, it would be expected that you would demonstrate two sensible approaches for curating features, with strong justification as to why they would characterise the data fairly.*\n",
    "* **Suitable use of the sci-kit machine learning library (5 Marks)**\n",
    "  * *For the higher mark band, it would be expected that you would show a good comprehension of the library usage.*\n",
    "* **Clear evaluation of ML performance and explainability (5 Marks)**\n",
    "  * *For the higher mark band, it would be expected that you would use confusion matrices to explain which malware classes are more separable, and which share similarity according to a well-trained model.*\n",
    "* **Clarity and presentation (5 Marks)**\n",
    "  * *For the higher mark band, it would be expected that your notebook is clear and concise, with good use of Markdown to annotate your work professionally.*\n",
    "\n",
    "### Submission Documents\n",
    "---\n",
    "\n",
    "Your submission for this task should include:\n",
    "\n",
    "- **1 Jupyter Notebook file (*.ipynb)**\n",
    "\n",
    "You should complete your work using the ipynb file provided (i.e., this document). Once you have completed your work, you should ensure that all code cells have been executed and then you should save your notebook. **Please note: Staff will NOT execute your notebook during marking. It is your responsibility to ensure that your saved notebook shows the code cell outputs as required.**\n",
    "\n",
    "The deadline for your portfolio submission is **THURSDAY 2ND MAY @ 14:00**. This assignment is eligible for the [48-hour late submission window](https://www.uwe.ac.uk/study/academic-information/personal-circumstances/late-submission-window), however module staff will not be able to assist with any queries after the deadline.\n",
    "\n",
    "Your portfolio submitted to Blackboard must contain 3 independent documents:\n",
    "\n",
    "- ***STUDENT_ID-TASK1.ipynb*** (your iPYNB with all cells executed)\n",
    "- ***STUDENT_ID-TASK2.ipynb*** (your iPYNB with all cells executed)\n",
    "- ***STUDENT_ID-TASK3.pdf*** (a PDF report of your research investigation)\n",
    "\n",
    "### Contact\n",
    "---\n",
    "\n",
    "Questions about this assignment should be directed to your module leader (Phil.Legg@uwe.ac.uk). You should use the [online Q&A form](https://forms.office.com/e/yxFJZDraRG) to ask questions related to this module and this assignment, as well as utilising the on-site teaching sessions.\n",
    "\n",
    "---"
   ]
  },
  {
   "cell_type": "markdown",
   "metadata": {
    "id": "BlhNPooLyF6l"
   },
   "source": [
    "# Student ID: 23008852\n",
    "\n",
    "- **By submitting this assignment to Blackboard as part of your portfolio, I declare that the submission is my own work.**\n",
    "\n",
    "***"
   ]
  },
  {
   "cell_type": "markdown",
   "metadata": {
    "id": "DBqKS6XByF6l"
   },
   "source": [
    "# Catalog\n",
    "### 1 Get the data ready\n",
    "- 1.1 Import data\n",
    "- 1.2 Pre-processing the data\n",
    "- 1.3 Use seaborn `countplot` to view the data visual easily\n",
    "- 1.4 Useful function for calculating the length of URLs\n",
    "- 1.5 Create train/test data\n",
    "- 1.6 Convert string into float\n",
    "\n",
    "### 2 Random Forest Classifier\n",
    "- 2.1 Create train/test data for Random Forest Classifier\n",
    "- 2.2 Create the model instance\n",
    "- 2.3 Fit the model to the training data\n",
    "- 2.4 Make a prediction\n",
    "- 2.5 Score the model\n",
    "- 2.6 Classification Report\n",
    "- 2.7 Confusion Report\n",
    "- 2.8 Sceond Try\n",
    "\n",
    "### 3 Logistic Regression\n",
    "- Firsty try (By using dummies)\n",
    "- Second Try (By converting Categorical Type into Float Type)\n",
    "\n",
    "### 4 Multi-Layer Perceptron Classifier\n",
    "- First Try (By using CountVectorizer)\n",
    "- Second Try (By converting Categorical Type into Float Type)"
   ]
  },
  {
   "cell_type": "markdown",
   "metadata": {
    "id": "83LgbcXPyF6l"
   },
   "source": [
    "### Pre-install useful packages"
   ]
  },
  {
   "cell_type": "code",
   "execution_count": null,
   "metadata": {
    "colab": {
     "base_uri": "https://localhost:8080/"
    },
    "id": "zJd9B_B48hBc",
    "outputId": "6eca78c1-881f-4989-8e61-2bfa56c423ee"
   },
   "outputs": [],
   "source": [
    "!pip3 install gensim"
   ]
  },
  {
   "cell_type": "markdown",
   "metadata": {
    "id": "Jf0ZopKgyF6m"
   },
   "source": [
    "### Import useful libraries"
   ]
  },
  {
   "cell_type": "code",
   "execution_count": null,
   "metadata": {
    "id": "Xei5g4OhrtI0"
   },
   "outputs": [],
   "source": [
    "# Import libraries as required\n",
    "import pandas as pd\n",
    "import numpy as np\n",
    "import matplotlib.pyplot as plt\n",
    "pd.set_option('display.max_rows', 10)\n",
    "import seaborn as sns\n",
    "# Preparation for Logistic Regression\n",
    "\n",
    "import os\n",
    "import gc\n",
    "import datetime\n",
    "from numba import njit\n",
    "from abc import abstractmethod, ABCMeta\n",
    "from sklearn.kernel_approximation import Nystroem\n",
    "from sklearn.isotonic import IsotonicRegression\n",
    "from sklearn.linear_model import LogisticRegression\n",
    "# from cuml import LogisticRegression\n",
    "from sklearn.kernel_ridge import KernelRidge\n",
    "from sklearn.preprocessing import StandardScaler\n",
    "from sklearn.model_selection import StratifiedKFold\n",
    "from sklearn.metrics import log_loss\n",
    "from sklearn.inspection import DecisionBoundaryDisplay\n",
    "from tqdm.notebook import tqdm\n",
    "from time import time\n",
    "\n",
    "# Import datasets, classifiers and performance metrics\n",
    "from sklearn import datasets, svm, metrics\n",
    "\n",
    "# Parsing Urls\n",
    "import re\n",
    "from urllib.parse import urlparse\n",
    "import os.path\n",
    "import string\n",
    "import logging\n",
    "\n",
    "# Turn the categories into numbers\n",
    "from sklearn.preprocessing import OneHotEncoder\n",
    "from sklearn.compose import ColumnTransformer\n",
    "\n",
    "# Models from Scikit-Learn\n",
    "from sklearn.linear_model import LogisticRegression\n",
    "from sklearn.ensemble import RandomForestClassifier\n",
    "\n",
    "# Model Evaluations\n",
    "from sklearn.model_selection import train_test_split, cross_val_score, cross_val_predict\n",
    "from sklearn.model_selection import RandomizedSearchCV, GridSearchCV\n",
    "from sklearn.metrics import accuracy_score\n",
    "from sklearn.metrics import confusion_matrix, classification_report\n",
    "from sklearn.metrics import precision_score, recall_score, f1_score\n",
    "from sklearn.metrics import RocCurveDisplay\n",
    "\n",
    "# Default settings of CSA Assessment 2\n",
    "from collections import Counter\n",
    "from timeit import timeit\n",
    "from sklearn.linear_model import SGDClassifier, LogisticRegression, RidgeClassifier, Perceptron\n",
    "from sklearn.ensemble import AdaBoostClassifier, ExtraTreesClassifier, GradientBoostingClassifier, BaggingClassifier\n",
    "from sklearn.neighbors import KNeighborsClassifier\n",
    "from sklearn.tree import DecisionTreeClassifier\n",
    "from sklearn.feature_extraction.text import CountVectorizer\n",
    "from sklearn.metrics import accuracy_score, ConfusionMatrixDisplay\n",
    "from sklearn.neural_network import MLPClassifier\n",
    "from sklearn.preprocessing import LabelEncoder\n",
    "\n",
    "\n",
    "from sklearn.naive_bayes import GaussianNB, MultinomialNB\n",
    "from sklearn.svm import SVC\n",
    "from sklearn.neural_network import MLPClassifier\n",
    "from sklearn.gaussian_process import GaussianProcessClassifier\n",
    "from sklearn.mixture import GaussianMixture\n",
    "from sklearn.cluster import KMeans\n",
    "from sklearn.pipeline import Pipeline\n",
    "from sklearn.discriminant_analysis import LinearDiscriminantAnalysis, QuadraticDiscriminantAnalysis\n",
    "from xgboost import XGBClassifier\n",
    "from lightgbm import LGBMClassifier\n",
    "from catboost import CatBoostClassifier\n",
    "\n",
    "from tldextract import extract as tld_extract\n",
    "from tld import get_tld, is_tld\n",
    "from tld.exceptions import TldDomainNotFound, TldBadUrl, TldIOError\n",
    "\n",
    "from colorama import Fore\n",
    "from datetime import datetime\n",
    "from plotly.subplots import make_subplots\n",
    "from plotly import graph_objects as go\n",
    "from wordcloud import WordCloud\n",
    "from gensim.models import Word2Vec\n",
    "import tldextract\n",
    "import hashlib\n",
    "import whois\n",
    "import warnings\n",
    "from urllib.parse import urlparse"
   ]
  },
  {
   "cell_type": "code",
   "execution_count": null,
   "metadata": {
    "id": "NVfLEuG-4WLc"
   },
   "outputs": [],
   "source": [
    "import warnings\n",
    "warnings.filterwarnings('ignore')"
   ]
  },
  {
   "cell_type": "markdown",
   "metadata": {
    "id": "BM-r_eO-yF6n"
   },
   "source": [
    "# 1 Get the data ready"
   ]
  },
  {
   "cell_type": "markdown",
   "metadata": {
    "id": "9LGUPKGTyF6n"
   },
   "source": [
    "### 1.1 Import dataset\n",
    "- Import data as `data`\n",
    "- Duplicate `data` as `df`. It's useful to have preserved original data, in case something wrong during the process."
   ]
  },
  {
   "cell_type": "code",
   "execution_count": null,
   "metadata": {
    "id": "qqMEmhA_rywx"
   },
   "outputs": [],
   "source": [
    "data = pd.read_csv('./dga-24000.csv')\n",
    "df = data.copy()"
   ]
  },
  {
   "cell_type": "code",
   "execution_count": null,
   "metadata": {
    "colab": {
     "base_uri": "https://localhost:8080/"
    },
    "id": "VE4Xs9zaXWj7",
    "outputId": "98ffd6ee-4100-4ef1-c5d5-40ce74b9a55f"
   },
   "outputs": [],
   "source": [
    "df.shape"
   ]
  },
  {
   "cell_type": "markdown",
   "metadata": {
    "id": "gcmeZUCUyF6n"
   },
   "source": [
    "### 1.2 Preprocessing the data\n",
    "- Use a library `LabelEncoder` to create numbers for each type of `Family`, which can be useful for classifiers of the models."
   ]
  },
  {
   "cell_type": "code",
   "execution_count": null,
   "metadata": {
    "colab": {
     "base_uri": "https://localhost:8080/"
    },
    "id": "GZmM69G7rzJs",
    "outputId": "dbdfa2ab-672a-4666-f1c1-69c5f718e388"
   },
   "outputs": [],
   "source": [
    "from sklearn.preprocessing import LabelEncoder\n",
    "\n",
    "lb_make = LabelEncoder()\n",
    "data[\"label\"] = lb_make.fit_transform(data[\"Family\"])\n",
    "data[\"label\"].value_counts()"
   ]
  },
  {
   "cell_type": "markdown",
   "metadata": {
    "id": "1qN1wsOVyF6n"
   },
   "source": [
    "### 1.3 Use seaborn countplot to view the data visual easily"
   ]
  },
  {
   "cell_type": "code",
   "execution_count": null,
   "metadata": {
    "colab": {
     "base_uri": "https://localhost:8080/",
     "height": 637
    },
    "id": "Uz9VZbfwcRre",
    "outputId": "bcc80a28-0a6e-4407-ba4c-9fa247cf1a53"
   },
   "outputs": [],
   "source": [
    "# countplot\n",
    "plt.figure(figsize=(8,7))\n",
    "sns.countplot(x='label',data=data,hue='label', palette='magma', legend=False)"
   ]
  },
  {
   "cell_type": "markdown",
   "metadata": {
    "id": "Zd1ZRYt0yF6n"
   },
   "source": [
    "### 1.4 Useful function for calculating the length of URLs\n",
    "- After calculating the length of URLs, add a new column to the end of `data`"
   ]
  },
  {
   "cell_type": "code",
   "execution_count": null,
   "metadata": {
    "colab": {
     "base_uri": "https://localhost:8080/",
     "height": 423
    },
    "id": "R8mOyP0Ezr-G",
    "outputId": "b7f4cac0-58d3-4dbd-a3f1-ed9d0df38519"
   },
   "outputs": [],
   "source": [
    "def url_length(url):\n",
    "    return len(str(url))\n",
    "\n",
    "data['url_length'] = data['Domain'].apply(lambda i: url_length(i))\n",
    "data['fam_len'] = data['Family'].apply(lambda i: url_length(i))\n",
    "data"
   ]
  },
  {
   "cell_type": "markdown",
   "metadata": {
    "id": "qP7SlO0myF6o"
   },
   "source": [
    "### 1.5 Create train/test data\n",
    "- Create `X` (features matrix) &  `y` (labels)"
   ]
  },
  {
   "cell_type": "code",
   "execution_count": null,
   "metadata": {
    "colab": {
     "base_uri": "https://localhost:8080/"
    },
    "id": "gzr6ArVJyeQk",
    "outputId": "062ccca7-cd04-4731-d87c-94b3c2997373"
   },
   "outputs": [],
   "source": [
    "# Split into X & y and train/test\n",
    "X = data.drop(\"label\", axis=1)\n",
    "y = data[\"label\"]\n",
    "\n",
    "\n",
    "# X_train, X_test, y_train, y_test = train_test_split(X, y, test_size=0.2)\n",
    "X_train, X_test, y_train, y_test = train_test_split(X, y, stratify=y, test_size=0.2, shuffle=True, random_state=5)\n",
    "print(f\"X_train Shape : {X_train.shape}\")\n",
    "print(f\"Y_train Shape : {y_train.shape}\")\n",
    "print(f\"X_test  Shape : {X_test.shape}\")\n",
    "print(f\"Y_test  Shape : {y_test.shape}\")"
   ]
  },
  {
   "cell_type": "markdown",
   "metadata": {
    "id": "a2PI-SMzytb7"
   },
   "source": [
    "### 1.6 Convert categorical type into float\n",
    "- Due to `Domain` & `Family` are all string types, hence they will be converted into float types."
   ]
  },
  {
   "cell_type": "code",
   "execution_count": null,
   "metadata": {
    "colab": {
     "base_uri": "https://localhost:8080/"
    },
    "id": "r4V-lP6CCluq",
    "outputId": "6b849cbb-26ec-4507-dc8d-888b6107b6af"
   },
   "outputs": [],
   "source": [
    "# 1. Import OneHotEncoder and ColumnTransformer\n",
    "from sklearn.preprocessing import OneHotEncoder\n",
    "from sklearn.compose import ColumnTransformer\n",
    "\n",
    "# 2. Define the categorical features to transform\n",
    "categorical_features = [\"Domain\", \"Family\", \"url_length\", \"fam_len\"]\n",
    "# 3. Create an instance of OneHotEncoder\n",
    "one_hot = OneHotEncoder()\n",
    "\n",
    "# 4. Create an instance of ColumnTransformer\n",
    "transformer = ColumnTransformer([(\"one_hot\", # name\n",
    "                                  one_hot, # transformer\n",
    "                                  categorical_features)], # columns to transform\n",
    "                                  remainder=\"passthrough\") # what to do with the rest of the columns? (\"passthrough\" = leave unchanged)\n",
    "\n",
    "# 5. Turn the categorical features into numbers (this will return an array-like sparse matrix, not a DataFrame)\n",
    "transformed_X = transformer.fit_transform(X)\n",
    "transformed_X"
   ]
  },
  {
   "cell_type": "markdown",
   "metadata": {
    "id": "U8rXCe1NyF6o"
   },
   "source": [
    "**Now the data are ready for the classifiers**"
   ]
  },
  {
   "cell_type": "markdown",
   "metadata": {
    "id": "cMYSkIrmD_7D"
   },
   "source": [
    "# 2 Random Forest Classifier"
   ]
  },
  {
   "cell_type": "markdown",
   "metadata": {
    "id": "ymjjd78ayF6o"
   },
   "source": [
    "### 2.1 Create train/test data for Random Forest Classifier"
   ]
  },
  {
   "cell_type": "code",
   "execution_count": null,
   "metadata": {
    "id": "ad9xBHVLyF6o"
   },
   "outputs": [],
   "source": [
    "np.random.seed(42)\n",
    "\n",
    "# Create train and test splits with transformed_X\n",
    "X_train, X_test, y_train, y_test = train_test_split(transformed_X,\n",
    "                                                    y,\n",
    "                                                    test_size=0.2,\n",
    "                                                    random_state=42)\n"
   ]
  },
  {
   "cell_type": "markdown",
   "metadata": {
    "id": "1tUWpxf5zEXV"
   },
   "source": [
    "### 2.2 Create the model instance"
   ]
  },
  {
   "cell_type": "code",
   "execution_count": null,
   "metadata": {
    "colab": {
     "base_uri": "https://localhost:8080/"
    },
    "id": "_saMoXrByF6o",
    "outputId": "03b2e49c-d57d-4df8-9c96-33c952ec405d"
   },
   "outputs": [],
   "source": [
    "# Create the model instance\n",
    "clf = RandomForestClassifier(n_estimators=200, max_depth=5, n_jobs=-1) # n_estimators = 100 is the default\n",
    "\n",
    "clf.get_params()"
   ]
  },
  {
   "cell_type": "markdown",
   "metadata": {
    "id": "GKaIoILxzM9V"
   },
   "source": [
    "### 2.3 Fit the model to the training data"
   ]
  },
  {
   "cell_type": "code",
   "execution_count": null,
   "metadata": {
    "colab": {
     "base_uri": "https://localhost:8080/",
     "height": 74
    },
    "id": "3I6-wPEeClxT",
    "outputId": "709313b0-f878-403f-c179-b02c74ecb9f1"
   },
   "outputs": [],
   "source": [
    "# Fit the model on the numerical data\n",
    "clf.fit(X_train, y_train)"
   ]
  },
  {
   "cell_type": "code",
   "execution_count": null,
   "metadata": {
    "colab": {
     "base_uri": "https://localhost:8080/"
    },
    "id": "e_L8Ge8PzaSk",
    "outputId": "ff480948-75d0-4e3b-a80a-6882466ffc18"
   },
   "outputs": [],
   "source": [
    "X_train"
   ]
  },
  {
   "cell_type": "markdown",
   "metadata": {
    "id": "XGOeC52YzerF"
   },
   "source": [
    " ### 2.4 Make a prediction"
   ]
  },
  {
   "cell_type": "code",
   "execution_count": null,
   "metadata": {
    "colab": {
     "base_uri": "https://localhost:8080/"
    },
    "id": "-njaOtep0Ytr",
    "outputId": "e51e6a57-0ef2-4c5d-ac64-943e9cd56725"
   },
   "outputs": [],
   "source": [
    "y_preds = clf.predict(X_test)\n",
    "y_preds"
   ]
  },
  {
   "cell_type": "code",
   "execution_count": null,
   "metadata": {
    "colab": {
     "base_uri": "https://localhost:8080/"
    },
    "id": "FJiSKnMC0mcz",
    "outputId": "f43abf65-394a-4bc4-c4af-576cea713a75"
   },
   "outputs": [],
   "source": [
    "y_test"
   ]
  },
  {
   "cell_type": "markdown",
   "metadata": {
    "id": "th9gI1_BznIa"
   },
   "source": [
    "### 2.5 Score the model\n",
    "- returns r^2 metric by default, also called coefficient of determination, higher is better\n",
    "- Evaluate the model on the training data and test data"
   ]
  },
  {
   "cell_type": "code",
   "execution_count": null,
   "metadata": {
    "colab": {
     "base_uri": "https://localhost:8080/"
    },
    "id": "qL-f_bPzzW0M",
    "outputId": "07863b98-c4b2-4d1e-ffff-f0421aa67aab"
   },
   "outputs": [],
   "source": [
    "clf.score(X_train, y_train)"
   ]
  },
  {
   "cell_type": "code",
   "execution_count": null,
   "metadata": {
    "colab": {
     "base_uri": "https://localhost:8080/"
    },
    "id": "kY0sItKnDtCC",
    "outputId": "7fdf7315-44bc-44d0-9f29-e72172fe0db5"
   },
   "outputs": [],
   "source": [
    "clf.score(X_test, y_test)"
   ]
  },
  {
   "cell_type": "markdown",
   "metadata": {
    "id": "O4iEjxRH0y-r"
   },
   "source": [
    "### 2.6 Classification Report"
   ]
  },
  {
   "cell_type": "code",
   "execution_count": null,
   "metadata": {
    "colab": {
     "base_uri": "https://localhost:8080/"
    },
    "id": "JU0Fd2Mh0w9U",
    "outputId": "1bee527c-dc26-47bc-d483-63ecb444acc7"
   },
   "outputs": [],
   "source": [
    "# View the classification report for test data and predictions\n",
    "print(classification_report(y_test,y_preds))"
   ]
  },
  {
   "cell_type": "markdown",
   "metadata": {
    "id": "ikyTJ2zQEtPR"
   },
   "source": [
    "### 2.7 Confusion Report"
   ]
  },
  {
   "cell_type": "code",
   "execution_count": null,
   "metadata": {
    "colab": {
     "base_uri": "https://localhost:8080/"
    },
    "id": "-hc7CfxnDtEU",
    "outputId": "3e11e3b4-ea4a-4ab5-a8d3-f1217c677932"
   },
   "outputs": [],
   "source": [
    "# Make predictions on the test data\n",
    "y_pred_test = clf.predict(X_test)\n",
    "\n",
    "# Calculate accuracy\n",
    "accuracy = accuracy_score(y_test, y_pred_test)\n",
    "\n",
    "print(\"Accuracy:\", accuracy)"
   ]
  },
  {
   "cell_type": "code",
   "execution_count": null,
   "metadata": {
    "colab": {
     "base_uri": "https://localhost:8080/"
    },
    "id": "fyuYgdXwEjy1",
    "outputId": "dc28170e-96a7-4f60-cff8-a9c6cc89dfcf"
   },
   "outputs": [],
   "source": [
    "# View confusion matrix for test data and predictions\n",
    "confusion_matrix(y_test,  y_pred_test)"
   ]
  },
  {
   "cell_type": "code",
   "execution_count": null,
   "metadata": {
    "colab": {
     "base_uri": "https://localhost:8080/",
     "height": 608
    },
    "id": "_rSDkYS3DtGl",
    "outputId": "b7621b25-e0a2-4fe5-ceee-7cbd363cb408"
   },
   "outputs": [],
   "source": [
    "# Get and reshape confusion matrix data\n",
    "matrix = confusion_matrix(y_test, y_pred_test)\n",
    "matrix = matrix.astype('float') / matrix.sum(axis=1)[:, np.newaxis]\n",
    "\n",
    "# Build the plot\n",
    "plt.figure(figsize=(16,7))\n",
    "sns.set(font_scale=1.4)\n",
    "sns.heatmap(matrix, annot=True, annot_kws={'size':10},\n",
    "            cmap=plt.cm.Greens, linewidths=0.2)\n",
    "\n",
    "# Add labels to the plot\n",
    "\n",
    "plt.xlabel('Predicted label')\n",
    "plt.ylabel('True label')\n",
    "plt.title('Confusion Matrix for Random Forest Model')\n",
    "plt.show()"
   ]
  },
  {
   "cell_type": "markdown",
   "metadata": {
    "id": "_9aAoIHbM5XQ"
   },
   "source": [
    "# 2.8 Second Try"
   ]
  },
  {
   "cell_type": "code",
   "execution_count": null,
   "metadata": {
    "colab": {
     "base_uri": "https://localhost:8080/",
     "height": 423
    },
    "id": "DyY7TT2kRPva",
    "outputId": "9c271daf-b452-4ebb-c0f2-08e16603e168"
   },
   "outputs": [],
   "source": [
    "df = data.copy()\n",
    "df"
   ]
  },
  {
   "cell_type": "markdown",
   "metadata": {
    "id": "qxQpv1bKPAsZ"
   },
   "source": [
    "\n",
    "\n",
    "# Useful Functions\n",
    "- `extract_root_domain` can extract root domain name from Domain\n",
    "- `extract_tld` can extract domain name from Domain"
   ]
  },
  {
   "cell_type": "code",
   "execution_count": null,
   "metadata": {
    "id": "Y4u13dQhO_2T"
   },
   "outputs": [],
   "source": [
    "def extract_root_domain(url):\n",
    "    extracted = tldextract.extract(url)\n",
    "    root_domain = extracted.domain\n",
    "    return root_domain"
   ]
  },
  {
   "cell_type": "code",
   "execution_count": null,
   "metadata": {
    "id": "1oRDoyqdO_4v"
   },
   "outputs": [],
   "source": [
    "def extract_tld(url):\n",
    "    tld = url.split(\".\")[-1]\n",
    "    return \".\" + tld"
   ]
  },
  {
   "cell_type": "markdown",
   "metadata": {
    "id": "I2yGoZy8VGSm"
   },
   "source": [
    "# Feature Engineering"
   ]
  },
  {
   "cell_type": "markdown",
   "metadata": {
    "id": "1PU1CXc1P3kn"
   },
   "source": [
    "# Create a new column root_domain\n",
    "There are 24,000 different root domain names, so I didn't plot this column."
   ]
  },
  {
   "cell_type": "code",
   "execution_count": null,
   "metadata": {
    "id": "IvURlMDlO_7A"
   },
   "outputs": [],
   "source": [
    "df['root_domain'] = df['Domain'].apply(lambda x: extract_root_domain(str(x)))"
   ]
  },
  {
   "cell_type": "code",
   "execution_count": null,
   "metadata": {
    "colab": {
     "base_uri": "https://localhost:8080/",
     "height": 423
    },
    "id": "hoWo0qRfP9Wj",
    "outputId": "b2a948af-27a2-49c2-aa67-dbe90e21f5b8"
   },
   "outputs": [],
   "source": [
    "def url_length(url):\n",
    "    return len(str(url))\n",
    "\n",
    "df['roo_len'] = df['root_domain'].apply(lambda i: url_length(i))\n",
    "df"
   ]
  },
  {
   "cell_type": "code",
   "execution_count": null,
   "metadata": {
    "colab": {
     "base_uri": "https://localhost:8080/"
    },
    "id": "_x8PqbCsQAjD",
    "outputId": "f7ee278c-58bc-428d-b150-4252afd10981"
   },
   "outputs": [],
   "source": [
    "\n",
    "df['root_domain'].value_counts()"
   ]
  },
  {
   "cell_type": "code",
   "execution_count": null,
   "metadata": {
    "id": "t1aRnE4_PK8M"
   },
   "outputs": [],
   "source": [
    "df['domain_name'] = df['Domain'].apply(extract_tld)"
   ]
  },
  {
   "cell_type": "code",
   "execution_count": null,
   "metadata": {
    "colab": {
     "base_uri": "https://localhost:8080/",
     "height": 423
    },
    "id": "Tl__1Dr0PK5c",
    "outputId": "76110eff-6845-4494-ec96-22c4ac896239"
   },
   "outputs": [],
   "source": [
    "def url_length(url):\n",
    "    return len(str(url))\n",
    "\n",
    "df['dom_len'] = df['domain_name'].apply(lambda i: url_length(i))\n",
    "df"
   ]
  },
  {
   "cell_type": "code",
   "execution_count": null,
   "metadata": {
    "colab": {
     "base_uri": "https://localhost:8080/"
    },
    "id": "T8teLYQ7PK-2",
    "outputId": "74393afc-57e8-4998-ab3a-19b1fec6c7c0"
   },
   "outputs": [],
   "source": [
    "\n",
    "df['domain_name'].value_counts()"
   ]
  },
  {
   "cell_type": "code",
   "execution_count": null,
   "metadata": {
    "colab": {
     "base_uri": "https://localhost:8080/"
    },
    "id": "9KgnlPlfO_9R",
    "outputId": "162dd520-3414-40b0-95e3-6508b592b26c"
   },
   "outputs": [],
   "source": [
    "\n",
    "# View the summary of `df`\n",
    "df.info()"
   ]
  },
  {
   "cell_type": "code",
   "execution_count": null,
   "metadata": {
    "colab": {
     "base_uri": "https://localhost:8080/",
     "height": 423
    },
    "id": "lQ7CThxjNrnC",
    "outputId": "09f26bd7-2c2c-4e37-c3f0-93cf3b169669"
   },
   "outputs": [],
   "source": [
    "df"
   ]
  },
  {
   "cell_type": "markdown",
   "metadata": {
    "id": "Bq8ARCNTQVai"
   },
   "source": [
    "# Split data into separate training and test set"
   ]
  },
  {
   "cell_type": "code",
   "execution_count": null,
   "metadata": {
    "id": "h2MPPbJOM1yp"
   },
   "outputs": [],
   "source": [
    "# Split into X & y and train/test\n",
    "X = df.drop(\"label\", axis=1)\n",
    "y = df[\"label\"]\n"
   ]
  },
  {
   "cell_type": "code",
   "execution_count": null,
   "metadata": {
    "colab": {
     "base_uri": "https://localhost:8080/"
    },
    "id": "5rdKdD67NICZ",
    "outputId": "f6a553e3-552a-42b4-bd7c-9d1653a49a06"
   },
   "outputs": [],
   "source": [
    "X_train"
   ]
  },
  {
   "cell_type": "markdown",
   "metadata": {
    "id": "zHfjkZ03QLhj"
   },
   "source": [
    "# Convert Categorical Type into Float Type"
   ]
  },
  {
   "cell_type": "code",
   "execution_count": null,
   "metadata": {
    "colab": {
     "base_uri": "https://localhost:8080/"
    },
    "id": "kKqXvCq5Ncw4",
    "outputId": "612887c2-03a9-4fb8-e111-fde06845df54"
   },
   "outputs": [],
   "source": [
    "# 1. Import OneHotEncoder and ColumnTransformer\n",
    "from sklearn.preprocessing import OneHotEncoder\n",
    "from sklearn.compose import ColumnTransformer\n",
    "\n",
    "# 2. Define the categorical features to transform\n",
    "categorical_features = [\"Domain\", \"Family\", \"url_length\", \"fam_len\", \"root_domain\",\"roo_len\", \"domain_name\",\"dom_len\"]\n",
    "# 3. Create an instance of OneHotEncoder\n",
    "one_hot = OneHotEncoder()\n",
    "\n",
    "# 4. Create an instance of ColumnTransformer\n",
    "transformer = ColumnTransformer([(\"one_hot\", # name\n",
    "                                  one_hot, # transformer\n",
    "                                  categorical_features)], # columns to transform\n",
    "                                  remainder=\"passthrough\") # what to do with the rest of the columns? (\"passthrough\" = leave unchanged)\n",
    "\n",
    "# 5. Turn the categorical features into numbers (this will return an array-like sparse matrix, not a DataFrame)\n",
    "transformed_X = transformer.fit_transform(X)\n",
    "transformed_X"
   ]
  },
  {
   "cell_type": "markdown",
   "metadata": {
    "id": "WmH4rcqcQeaz"
   },
   "source": [
    "# Create train and test splits with transformed_X"
   ]
  },
  {
   "cell_type": "code",
   "execution_count": null,
   "metadata": {
    "id": "HiWD76wOOLRA"
   },
   "outputs": [],
   "source": [
    "np.random.seed(42)\n",
    "\n",
    "# Create train and test splits with transformed_X\n",
    "X_train, X_test, y_train, y_test = train_test_split(transformed_X,\n",
    "                                                    y,\n",
    "                                                    test_size=0.2,\n",
    "                                                    random_state=42)\n"
   ]
  },
  {
   "cell_type": "code",
   "execution_count": null,
   "metadata": {
    "colab": {
     "base_uri": "https://localhost:8080/"
    },
    "id": "tlOGdaFLM9cK",
    "outputId": "db003f4c-e4e8-4a3f-ba8f-0b76e152ed5f"
   },
   "outputs": [],
   "source": [
    "# Create the model instance\n",
    "clf = RandomForestClassifier(n_estimators=200, max_depth=5, n_jobs=-1) # n_estimators = 100 is the default\n",
    "\n",
    "clf.get_params()"
   ]
  },
  {
   "cell_type": "markdown",
   "metadata": {
    "id": "wgQ4NFj-Qkic"
   },
   "source": [
    "# Fit the model on the numerical data"
   ]
  },
  {
   "cell_type": "code",
   "execution_count": null,
   "metadata": {
    "colab": {
     "base_uri": "https://localhost:8080/",
     "height": 74
    },
    "id": "WtuppwebNDog",
    "outputId": "8faa1bcc-98fa-4799-d791-b0b8c86893c9"
   },
   "outputs": [],
   "source": [
    "# Fit the model on the numerical data\n",
    "clf.fit(X_train, y_train)"
   ]
  },
  {
   "cell_type": "markdown",
   "metadata": {
    "id": "FtY3ixRPQlnb"
   },
   "source": [
    "# Make a Prediction"
   ]
  },
  {
   "cell_type": "code",
   "execution_count": null,
   "metadata": {
    "colab": {
     "base_uri": "https://localhost:8080/"
    },
    "id": "ryXdvi8XNDq_",
    "outputId": "3cef03a0-9bf4-4af2-e0ac-9981ee75e2ac"
   },
   "outputs": [],
   "source": [
    "y_preds = clf.predict(X_test)\n",
    "y_preds"
   ]
  },
  {
   "cell_type": "markdown",
   "metadata": {
    "id": "GlFZhWH3Qn0T"
   },
   "source": [
    "# Score"
   ]
  },
  {
   "cell_type": "code",
   "execution_count": null,
   "metadata": {
    "colab": {
     "base_uri": "https://localhost:8080/"
    },
    "id": "H8DhZw5kNDtV",
    "outputId": "2264b070-69ac-4f50-c6cc-9de8d942b17b"
   },
   "outputs": [],
   "source": [
    "clf.score(X_train, y_train)"
   ]
  },
  {
   "cell_type": "code",
   "execution_count": null,
   "metadata": {
    "colab": {
     "base_uri": "https://localhost:8080/"
    },
    "id": "qF31_iDhNQT7",
    "outputId": "27571e35-abf3-45eb-b825-5f2219c4c623"
   },
   "outputs": [],
   "source": [
    "clf.score(X_test, y_test)"
   ]
  },
  {
   "cell_type": "markdown",
   "metadata": {
    "id": "R6XG9YBDQq_E"
   },
   "source": [
    "# Classification Report"
   ]
  },
  {
   "cell_type": "code",
   "execution_count": null,
   "metadata": {
    "colab": {
     "base_uri": "https://localhost:8080/"
    },
    "id": "z0jqZ0oKNDv9",
    "outputId": "80ba1210-547e-4bc6-9fc1-086dd7d73aa4"
   },
   "outputs": [],
   "source": [
    "# View the classification report for test data and predictions\n",
    "print(classification_report(y_test, y_preds))"
   ]
  },
  {
   "cell_type": "markdown",
   "metadata": {
    "id": "J2iFjDRhQtG8"
   },
   "source": [
    "# Confusion Matrix"
   ]
  },
  {
   "cell_type": "code",
   "execution_count": null,
   "metadata": {
    "colab": {
     "base_uri": "https://localhost:8080/"
    },
    "id": "I77qZtiGNDyQ",
    "outputId": "136d54a2-dcd7-4797-bf7e-00ea8b835420"
   },
   "outputs": [],
   "source": [
    "# View confusion matrix for test data and predictions\n",
    "confusion_matrix(y_test, y_preds)"
   ]
  },
  {
   "cell_type": "code",
   "execution_count": null,
   "metadata": {
    "colab": {
     "base_uri": "https://localhost:8080/",
     "height": 608
    },
    "id": "Kfg2gEpfchhj",
    "outputId": "39e931ec-efdb-4084-e29f-6cd9a792c924"
   },
   "outputs": [],
   "source": [
    "# Get and reshape confusion matrix data\n",
    "matrixx = confusion_matrix(y_test, y_preds)\n",
    "matrixx = matrixx.astype('float') / matrixx.sum(axis=1)[:, np.newaxis]\n",
    "\n",
    "# Build the plot\n",
    "plt.figure(figsize=(16,7))\n",
    "sns.set(font_scale=1.4)\n",
    "sns.heatmap(matrixx, annot=True, annot_kws={'size':10},\n",
    "            cmap=plt.cm.Greens, linewidths=0.2)\n",
    "\n",
    "# Add labels to the plot\n",
    "\n",
    "plt.xlabel('Predicted label')\n",
    "plt.ylabel('True label')\n",
    "plt.title('Confusion Matrix for Random Forest Model')\n",
    "plt.show()"
   ]
  },
  {
   "cell_type": "markdown",
   "metadata": {
    "id": "x2E1GtNGWWSu"
   },
   "source": [
    "# 3 Logistic Regression"
   ]
  },
  {
   "cell_type": "markdown",
   "metadata": {
    "id": "0J-DVJpE1S3A"
   },
   "source": [
    "# 3.1 First Try\n",
    "Create train/test data for Logistic Regression Classifier"
   ]
  },
  {
   "cell_type": "code",
   "execution_count": null,
   "metadata": {
    "colab": {
     "base_uri": "https://localhost:8080/",
     "height": 423
    },
    "id": "vnWIcqOKP814",
    "outputId": "976a1797-97f6-4752-fbe2-c06b77be2868"
   },
   "outputs": [],
   "source": [
    "df = data.copy()\n",
    "df"
   ]
  },
  {
   "cell_type": "code",
   "execution_count": null,
   "metadata": {
    "colab": {
     "base_uri": "https://localhost:8080/"
    },
    "id": "icMYg5HpcM4e",
    "outputId": "64e08ecf-7ae7-4068-c400-fb6ede4f7c78"
   },
   "outputs": [],
   "source": [
    "df.shape"
   ]
  },
  {
   "cell_type": "markdown",
   "metadata": {
    "id": "Hh1C5FiFcVvQ"
   },
   "source": [
    "### view summary of dataset"
   ]
  },
  {
   "cell_type": "code",
   "execution_count": null,
   "metadata": {
    "colab": {
     "base_uri": "https://localhost:8080/"
    },
    "id": "IcgqzTtScHE9",
    "outputId": "de07806e-1e42-496f-e500-460a6b2bffb1"
   },
   "outputs": [],
   "source": [
    "df.info()"
   ]
  },
  {
   "cell_type": "code",
   "execution_count": null,
   "metadata": {
    "colab": {
     "base_uri": "https://localhost:8080/",
     "height": 300
    },
    "id": "KRtcg8cOcIyP",
    "outputId": "b4d26643-fa2f-4fef-ec47-827a1b82e3db"
   },
   "outputs": [],
   "source": [
    "df.describe()"
   ]
  },
  {
   "cell_type": "markdown",
   "metadata": {
    "id": "C38dDrJH1VCC"
   },
   "source": [
    "###  Check `Family` using bar chart"
   ]
  },
  {
   "cell_type": "code",
   "execution_count": null,
   "metadata": {
    "colab": {
     "base_uri": "https://localhost:8080/",
     "height": 542
    },
    "id": "5WIjfpZbrIuq",
    "outputId": "2bcc071d-fcb9-4545-b0c3-26d4c2e518b4"
   },
   "outputs": [],
   "source": [
    "count = data['Family'].value_counts()\n",
    "colors = [\n",
    "    '#FF6633', '#FFB399', '#FF33FF', '#FFFF99', '#00B3E6',\n",
    "    '#E6B333', '#3366E6', '#999966', '#99FF99', '#B34D4D',\n",
    "    '#FF6633', '#FFB399', '#FF33FF', '#FFFF99', '#00B3E6',\n",
    "    '#E6B333', '#3366E6', '#999966', '#99FF99', '#B34D4D',\n",
    "    '#FF6633', '#FFB399', '#FF33FF', '#FFFF99', '#00B3E6',\n",
    "]\n",
    "fig = go.Figure(data=[go.Bar(x=count.index, y=count, marker=dict(color=colors))])\n",
    "fig.update_layout(\n",
    "    xaxis_title='Types',\n",
    "    yaxis_title='Count',\n",
    "    title='Count of Different Types of URLs',\n",
    "    plot_bgcolor='black',\n",
    "    paper_bgcolor='black',\n",
    "    font=dict(color='white')\n",
    ")\n",
    "fig.update_xaxes(tickfont=dict(color='white'))\n",
    "fig.update_yaxes(tickfont=dict(color='white'))\n",
    "fig.show()"
   ]
  },
  {
   "cell_type": "markdown",
   "metadata": {
    "id": "2HwKtmCj1i2z"
   },
   "source": [
    "###  Useful Functions\n",
    "- `extract_root_domain` can extract root domain name from `Domain`\n",
    "- `extract_tld` can extract domain name from `Domain`"
   ]
  },
  {
   "cell_type": "code",
   "execution_count": null,
   "metadata": {
    "id": "g62l-GEFsIyF"
   },
   "outputs": [],
   "source": [
    "def extract_root_domain(url):\n",
    "    extracted = tldextract.extract(url)\n",
    "    root_domain = extracted.domain\n",
    "    return root_domain"
   ]
  },
  {
   "cell_type": "code",
   "execution_count": null,
   "metadata": {
    "id": "Z57xriIOyl5G"
   },
   "outputs": [],
   "source": [
    "def extract_tld(url):\n",
    "    tld = url.split(\".\")[-1]\n",
    "    return \".\" + tld"
   ]
  },
  {
   "cell_type": "markdown",
   "metadata": {
    "id": "k3bdios310vk"
   },
   "source": [
    "### Create a new column `root_domain`\n",
    "- There are 24,000 different root domain names, so I didn't plot this column"
   ]
  },
  {
   "cell_type": "code",
   "execution_count": null,
   "metadata": {
    "id": "B_v_GuKls-3D"
   },
   "outputs": [],
   "source": [
    "df['root_domain'] = df['Domain'].apply(lambda x: extract_root_domain(str(x)))"
   ]
  },
  {
   "cell_type": "code",
   "execution_count": null,
   "metadata": {
    "colab": {
     "base_uri": "https://localhost:8080/",
     "height": 423
    },
    "id": "NAwpj56SwY3K",
    "outputId": "5710f1d4-3ef2-4151-b8ad-9810bdb7ea16"
   },
   "outputs": [],
   "source": [
    "def url_length(url):\n",
    "    return len(str(url))\n",
    "\n",
    "df['roo_len'] = df['root_domain'].apply(lambda i: url_length(i))\n",
    "df"
   ]
  },
  {
   "cell_type": "code",
   "execution_count": null,
   "metadata": {
    "colab": {
     "base_uri": "https://localhost:8080/"
    },
    "id": "TXCuvkgnwuKK",
    "outputId": "4f36b0cf-5a13-4bc2-9c33-1a0fee5bd7fb"
   },
   "outputs": [],
   "source": [
    "df['root_domain'].value_counts()"
   ]
  },
  {
   "cell_type": "markdown",
   "metadata": {
    "id": "ehzPDiKp159I"
   },
   "source": [
    "###  Create a new column `domain_name`"
   ]
  },
  {
   "cell_type": "code",
   "execution_count": null,
   "metadata": {
    "id": "xztQkuJBw1rF"
   },
   "outputs": [],
   "source": [
    "df['domain_name'] = df['Domain'].apply(extract_tld)"
   ]
  },
  {
   "cell_type": "code",
   "execution_count": null,
   "metadata": {
    "colab": {
     "base_uri": "https://localhost:8080/",
     "height": 423
    },
    "id": "qeRTyCwzyuQE",
    "outputId": "234892ed-dece-41b1-96c2-5ad46a0b2b5b"
   },
   "outputs": [],
   "source": [
    "df"
   ]
  },
  {
   "cell_type": "markdown",
   "metadata": {
    "id": "gpDpYUj6dN4V"
   },
   "source": [
    "Caculate the length of `root_domain` & `domain_name`"
   ]
  },
  {
   "cell_type": "code",
   "execution_count": null,
   "metadata": {
    "colab": {
     "base_uri": "https://localhost:8080/",
     "height": 423
    },
    "id": "v9wjt2A4dOBQ",
    "outputId": "80feaf89-f72a-448d-d578-0e4dece2d0eb"
   },
   "outputs": [],
   "source": [
    "def url_length(url):\n",
    "    return len(str(url))\n",
    "\n",
    "df['dom_len'] = df['domain_name'].apply(lambda i: url_length(i))\n",
    "df"
   ]
  },
  {
   "cell_type": "code",
   "execution_count": null,
   "metadata": {
    "colab": {
     "base_uri": "https://localhost:8080/"
    },
    "id": "g5duBEumyzcY",
    "outputId": "b15cba43-c578-4247-84a2-7858377795bd"
   },
   "outputs": [],
   "source": [
    "df['domain_name'].value_counts()"
   ]
  },
  {
   "cell_type": "markdown",
   "metadata": {
    "id": "EpAHeypW2LfD"
   },
   "source": [
    "### 3.1.5 Plot the `domain_name`"
   ]
  },
  {
   "cell_type": "code",
   "execution_count": null,
   "metadata": {
    "colab": {
     "base_uri": "https://localhost:8080/",
     "height": 542
    },
    "id": "I_cbZq3O2Sa8",
    "outputId": "c4d1e1fa-465a-490a-8557-66f9240d000c"
   },
   "outputs": [],
   "source": [
    "count = df['domain_name'].value_counts()\n",
    "colors = [\n",
    "    '#FF6633', '#FFB399', '#FF33FF', '#FFFF99', '#00B3E6',\n",
    "    '#E6B333', '#3366E6', '#999966', '#99FF99', '#B34D4D',\n",
    "    '#FF6633', '#FFB399', '#FF33FF', '#FFFF99', '#00B3E6',\n",
    "    '#E6B333', '#3366E6', '#999966', '#99FF99', '#B34D4D',\n",
    "    '#FF6633', '#FFB399', '#FF33FF', '#FFFF99', '#00B3E6',\n",
    "]\n",
    "fig = go.Figure(data=[go.Bar(x=count.index, y=count, marker=dict(color=colors))])\n",
    "fig.update_layout(\n",
    "    xaxis_title='Types',\n",
    "    yaxis_title='Count',\n",
    "    title='Count of Different Types of URLs',\n",
    "    plot_bgcolor='black',\n",
    "    paper_bgcolor='black',\n",
    "    font=dict(color='white')\n",
    ")\n",
    "fig.update_xaxes(tickfont=dict(color='white'))\n",
    "fig.update_yaxes(tickfont=dict(color='white'))\n",
    "fig.show()"
   ]
  },
  {
   "cell_type": "code",
   "execution_count": null,
   "metadata": {
    "colab": {
     "base_uri": "https://localhost:8080/"
    },
    "id": "oZ0kNclA1IJD",
    "outputId": "9e00164b-2fdf-424f-9980-37848697f8a4"
   },
   "outputs": [],
   "source": [
    "# View the summary of `df`\n",
    "df.info()"
   ]
  },
  {
   "cell_type": "markdown",
   "metadata": {
    "id": "oudfxPMv2YnV"
   },
   "source": [
    "### 3.1.6 Check whether there is any missing values\n",
    "- There is no missing value."
   ]
  },
  {
   "cell_type": "code",
   "execution_count": null,
   "metadata": {
    "colab": {
     "base_uri": "https://localhost:8080/"
    },
    "id": "nK49QfTt1h8w",
    "outputId": "96542fbc-76e2-4c77-8cec-949484f03321"
   },
   "outputs": [],
   "source": [
    "df.isnull().sum()"
   ]
  },
  {
   "cell_type": "code",
   "execution_count": null,
   "metadata": {
    "colab": {
     "base_uri": "https://localhost:8080/",
     "height": 423
    },
    "id": "LZeF5a3S-pT_",
    "outputId": "43fe12c3-84d5-47c1-cf7a-530a116b04c8"
   },
   "outputs": [],
   "source": [
    "df"
   ]
  },
  {
   "cell_type": "markdown",
   "metadata": {
    "id": "13BieI8o2rLU"
   },
   "source": [
    "#  Create the model instance\n"
   ]
  },
  {
   "cell_type": "markdown",
   "metadata": {
    "id": "wUEiczy1Ckzq"
   },
   "source": [
    "###  Split data into train and test"
   ]
  },
  {
   "cell_type": "code",
   "execution_count": null,
   "metadata": {
    "colab": {
     "base_uri": "https://localhost:8080/",
     "height": 423
    },
    "id": "CmoR7KUa8kIc",
    "outputId": "2fcfb003-15fd-45b4-a4f3-907ddac20cd9"
   },
   "outputs": [],
   "source": [
    "df"
   ]
  },
  {
   "cell_type": "code",
   "execution_count": null,
   "metadata": {
    "colab": {
     "base_uri": "https://localhost:8080/"
    },
    "id": "lZVgPMRdePLH",
    "outputId": "a4e43e87-0c44-4296-f884-98b3ac04f38b"
   },
   "outputs": [],
   "source": [
    "df.shape"
   ]
  },
  {
   "cell_type": "code",
   "execution_count": null,
   "metadata": {
    "colab": {
     "base_uri": "https://localhost:8080/"
    },
    "id": "evawz3kYeiQf",
    "outputId": "df11b51a-88a7-4fac-dada-86fdd55ae673"
   },
   "outputs": [],
   "source": [
    "df.info()"
   ]
  },
  {
   "cell_type": "code",
   "execution_count": null,
   "metadata": {
    "colab": {
     "base_uri": "https://localhost:8080/"
    },
    "id": "_YNZJs_yeqvQ",
    "outputId": "7adbddf0-dcc9-4172-984d-6611c909c78c"
   },
   "outputs": [],
   "source": [
    "df.isnull().sum()"
   ]
  },
  {
   "cell_type": "code",
   "execution_count": null,
   "metadata": {
    "colab": {
     "base_uri": "https://localhost:8080/"
    },
    "id": "6x5A2PO_fGhw",
    "outputId": "f7002826-8196-4fc7-977a-320d4d930811"
   },
   "outputs": [],
   "source": [
    "# find categorical variables\n",
    "\n",
    "categorical = [var for var in df.columns if df[var].dtype=='O']\n",
    "\n",
    "print('There are {} categorical variables\\n'.format(len(categorical)))\n",
    "\n",
    "print('The categorical variables are :', categorical)"
   ]
  },
  {
   "cell_type": "code",
   "execution_count": null,
   "metadata": {
    "colab": {
     "base_uri": "https://localhost:8080/"
    },
    "id": "lUWUuy92flHX",
    "outputId": "6a83057f-94e2-4f72-8b08-7a12bdc227b8"
   },
   "outputs": [],
   "source": [
    "# check labels in Family variable\n",
    "\n",
    "df.Family.unique()"
   ]
  },
  {
   "cell_type": "code",
   "execution_count": null,
   "metadata": {
    "colab": {
     "base_uri": "https://localhost:8080/",
     "height": 255
    },
    "id": "ld7SkvlOgsnW",
    "outputId": "f70e6c71-94d0-4558-e4cc-0af2fd4d18e7"
   },
   "outputs": [],
   "source": [
    "# let's do One Hot Encoding of Family variable\n",
    "# get k-1 dummy variables after One Hot Encoding\n",
    "# preview the dataset with head() method\n",
    "\n",
    "pd.get_dummies(df.Family, drop_first=True).head()"
   ]
  },
  {
   "cell_type": "code",
   "execution_count": null,
   "metadata": {
    "colab": {
     "base_uri": "https://localhost:8080/"
    },
    "id": "7Aft72OAfxmJ",
    "outputId": "04122e98-9eb6-45b8-f872-346327a2a8ff"
   },
   "outputs": [],
   "source": [
    "# check labels in Family variable\n",
    "\n",
    "df.Domain.unique()"
   ]
  },
  {
   "cell_type": "code",
   "execution_count": null,
   "metadata": {
    "colab": {
     "base_uri": "https://localhost:8080/"
    },
    "id": "VXiExKx2fxTv",
    "outputId": "8ee036bf-c2d3-4d8e-9b68-92df76160e32"
   },
   "outputs": [],
   "source": [
    "# check frequency distribution of values in Domain variable\n",
    "\n",
    "df.Domain.value_counts()"
   ]
  },
  {
   "cell_type": "code",
   "execution_count": null,
   "metadata": {
    "colab": {
     "base_uri": "https://localhost:8080/",
     "height": 255
    },
    "id": "9dJLfdT4gytI",
    "outputId": "2a586dbd-bc47-475c-f836-c9cc7f9984d2"
   },
   "outputs": [],
   "source": [
    "# let's do One Hot Encoding of Domain variable\n",
    "# get k-1 dummy variables after One Hot Encoding\n",
    "# preview the dataset with head() method\n",
    "\n",
    "pd.get_dummies(df.Domain, drop_first=True).head()"
   ]
  },
  {
   "cell_type": "code",
   "execution_count": null,
   "metadata": {
    "colab": {
     "base_uri": "https://localhost:8080/"
    },
    "id": "xcrvA1oOf28n",
    "outputId": "ff07cad5-ec43-4920-d382-2dba8464f2b2"
   },
   "outputs": [],
   "source": [
    "# check frequency distribution of values in Root_Domain variable\n",
    "df.root_domain.unique()"
   ]
  },
  {
   "cell_type": "code",
   "execution_count": null,
   "metadata": {
    "colab": {
     "base_uri": "https://localhost:8080/"
    },
    "id": "3XAe7elEf2_S",
    "outputId": "2aa49369-c4e2-4bcf-85e3-c7cddda6bdf6"
   },
   "outputs": [],
   "source": [
    "# check frequency distribution of values in Root_Domain variable\n",
    "\n",
    "df.root_domain.value_counts()"
   ]
  },
  {
   "cell_type": "code",
   "execution_count": null,
   "metadata": {
    "colab": {
     "base_uri": "https://localhost:8080/",
     "height": 255
    },
    "id": "iMRB5MvYg2hf",
    "outputId": "3d726eb3-ced6-4899-95af-6453384e699e"
   },
   "outputs": [],
   "source": [
    "# let's do One Hot Encoding of root_domain variable\n",
    "# get k-1 dummy variables after One Hot Encoding\n",
    "# preview the dataset with head() method\n",
    "\n",
    "pd.get_dummies(df.root_domain, drop_first=True).head()"
   ]
  },
  {
   "cell_type": "code",
   "execution_count": null,
   "metadata": {
    "colab": {
     "base_uri": "https://localhost:8080/"
    },
    "id": "uxUzZyXKgK0K",
    "outputId": "bd0d5f68-9715-4636-f1a5-4b44e2e85d25"
   },
   "outputs": [],
   "source": [
    "# check frequency distribution of values in domain_name variable\n",
    "df.domain_name.unique()"
   ]
  },
  {
   "cell_type": "code",
   "execution_count": null,
   "metadata": {
    "colab": {
     "base_uri": "https://localhost:8080/"
    },
    "id": "hB6CixoygKyB",
    "outputId": "b697d5f4-699d-4ffe-c255-68647bed2aa5"
   },
   "outputs": [],
   "source": [
    "# check frequency distribution of values in domain_name variable\n",
    "\n",
    "df.domain_name.value_counts()"
   ]
  },
  {
   "cell_type": "code",
   "execution_count": null,
   "metadata": {
    "colab": {
     "base_uri": "https://localhost:8080/",
     "height": 235
    },
    "id": "uwmDNFIKg7qw",
    "outputId": "bbea3d31-2d83-484c-e517-af7aa0ecee36"
   },
   "outputs": [],
   "source": [
    "# let's do One Hot Encoding of domain_name variable\n",
    "# get k-1 dummy variables after One Hot Encoding\n",
    "# preview the dataset with head() method\n",
    "\n",
    "pd.get_dummies(df.domain_name, drop_first=True, dummy_na=True).head()"
   ]
  },
  {
   "cell_type": "code",
   "execution_count": null,
   "metadata": {
    "colab": {
     "base_uri": "https://localhost:8080/"
    },
    "id": "MV3JzLIpfiM3",
    "outputId": "0ef7840d-50ab-487a-ffec-05cfb852c03e"
   },
   "outputs": [],
   "source": [
    "# check for missing values in categorical variables\n",
    "\n",
    "df[categorical].isnull().sum()"
   ]
  },
  {
   "cell_type": "markdown",
   "metadata": {
    "id": "mLSVSlwXhdbZ"
   },
   "source": [
    "# Check Numerical variables"
   ]
  },
  {
   "cell_type": "code",
   "execution_count": null,
   "metadata": {
    "colab": {
     "base_uri": "https://localhost:8080/"
    },
    "id": "AVfX9IUye_7Q",
    "outputId": "c0449efb-b88e-4717-887c-5dc3e9e6c673"
   },
   "outputs": [],
   "source": [
    "# find numerical variables\n",
    "\n",
    "numerical = [var for var in df.columns if df[var].dtype!='O']\n",
    "\n",
    "print('There are {} numerical variables\\n'.format(len(numerical)))\n",
    "\n",
    "print('The numerical variables are :', numerical)"
   ]
  },
  {
   "cell_type": "code",
   "execution_count": null,
   "metadata": {
    "colab": {
     "base_uri": "https://localhost:8080/",
     "height": 206
    },
    "id": "3znv4lchga_g",
    "outputId": "7ed0a38a-81e0-40ad-bad0-48c75669ebf8"
   },
   "outputs": [],
   "source": [
    "# view the numerical variables\n",
    "df[numerical].head()"
   ]
  },
  {
   "cell_type": "code",
   "execution_count": null,
   "metadata": {
    "colab": {
     "base_uri": "https://localhost:8080/"
    },
    "id": "ziX2U_ZzhksA",
    "outputId": "f45abe6e-915e-464f-bf09-b6101bda58db"
   },
   "outputs": [],
   "source": [
    "# check missing values in numerical variables\n",
    "\n",
    "df[numerical].isnull().sum()"
   ]
  },
  {
   "cell_type": "code",
   "execution_count": null,
   "metadata": {
    "colab": {
     "base_uri": "https://localhost:8080/"
    },
    "id": "vYGwqv6je7l2",
    "outputId": "60b7adea-d572-48a8-f31a-1a9e4bf5f519"
   },
   "outputs": [],
   "source": [
    "# view summary statistics in numerical variables\n",
    "print(round(df[numerical].describe()))"
   ]
  },
  {
   "cell_type": "code",
   "execution_count": null,
   "metadata": {
    "colab": {
     "base_uri": "https://localhost:8080/",
     "height": 773
    },
    "id": "Pz8HLQJMhqGI",
    "outputId": "68e73b50-f43e-4b75-9032-515860a6944f"
   },
   "outputs": [],
   "source": [
    "# draw boxplots to visualize outliers\n",
    "\n",
    "plt.figure(figsize=(15,10))\n",
    "\n",
    "\n",
    "plt.subplot(2, 2, 1)\n",
    "fig = df.boxplot(column='label')\n",
    "fig.set_title('')\n",
    "fig.set_ylabel('label')\n",
    "\n",
    "\n",
    "plt.subplot(2, 2, 2)\n",
    "fig = df.boxplot(column='url_length')\n",
    "fig.set_title('')\n",
    "fig.set_ylabel('url_length')\n",
    "\n",
    "\n",
    "\n",
    "plt.subplot(2, 2, 3)\n",
    "fig = df.boxplot(column='dom_len')\n",
    "fig.set_title('')\n",
    "fig.set_ylabel('dom_len')\n",
    "\n",
    "plt.subplot(2, 2, 4)\n",
    "fig = df.boxplot(column='roo_len')\n",
    "fig.set_title('')\n",
    "fig.set_ylabel('root_len')"
   ]
  },
  {
   "cell_type": "markdown",
   "metadata": {
    "id": "bHaGf0yHiO55"
   },
   "source": [
    "The above boxplots confirm that there are lot of outliers in these variables"
   ]
  },
  {
   "cell_type": "markdown",
   "metadata": {
    "id": "T0BiWItgjnjD"
   },
   "source": [
    "# Check the distribution of variables"
   ]
  },
  {
   "cell_type": "code",
   "execution_count": null,
   "metadata": {
    "colab": {
     "base_uri": "https://localhost:8080/",
     "height": 769
    },
    "id": "p5nfoTF5i4HA",
    "outputId": "2942e84b-63f0-4b84-8d25-a1d07adee481"
   },
   "outputs": [],
   "source": [
    "# plot histogram to check distribution\n",
    "\n",
    "plt.figure(figsize=(15,10))\n",
    "\n",
    "\n",
    "plt.subplot(2, 2, 1)\n",
    "fig = df.label.hist(bins=10)\n",
    "fig.set_xlabel('Data')\n",
    "fig.set_ylabel('label')\n",
    "\n",
    "\n",
    "plt.subplot(2, 2, 2)\n",
    "fig = df.url_length.hist(bins=10)\n",
    "fig.set_xlabel('Data')\n",
    "fig.set_ylabel('url_len')\n",
    "\n",
    "\n",
    "plt.subplot(2, 2, 3)\n",
    "fig = df.roo_len.hist(bins=10)\n",
    "fig.set_xlabel('Data')\n",
    "fig.set_ylabel('Root Length')\n",
    "\n",
    "\n",
    "plt.subplot(2, 2, 4)\n",
    "fig = df.dom_len.hist(bins=10)\n",
    "fig.set_xlabel('Data')\n",
    "fig.set_ylabel('Domain Length')"
   ]
  },
  {
   "cell_type": "markdown",
   "metadata": {
    "id": "F8HuBYD7k2RR"
   },
   "source": [
    "# IQR\n",
    "The interquartile range (IQR) is the box plot showing the middle 50% of scores and can be calculated by subtracting the lower quartile from the upper quartile (e.g., Q3−Q1).<br>\n",
    "\n",
    "- [Simplypsychology - Boxplot explained](https://www.simplypsychology.org/boxplots.html)\n",
    "- [Scribbr - Another Useful explanation about Interquartile Range (IQR)](https://www.scribbr.com/statistics/interquartile-range/)"
   ]
  },
  {
   "cell_type": "code",
   "execution_count": null,
   "metadata": {
    "colab": {
     "base_uri": "https://localhost:8080/"
    },
    "id": "SrSkHVTti4VI",
    "outputId": "0158448e-91ee-4cba-95d7-156b17d62ce3"
   },
   "outputs": [],
   "source": [
    "# find outliers for Rainfall variable\n",
    "\n",
    "IQR = df.fam_len.quantile(0.75) - df.fam_len.quantile(0.25)\n",
    "Lower_fence = df.fam_len.quantile(0.25) - (IQR * 3)\n",
    "Upper_fence = df.fam_len.quantile(0.75) + (IQR * 3)\n",
    "print('Family length outliers are values < {lowerboundary} or > {upperboundary}'.format(lowerboundary=Lower_fence, upperboundary=Upper_fence))"
   ]
  },
  {
   "cell_type": "code",
   "execution_count": null,
   "metadata": {
    "colab": {
     "base_uri": "https://localhost:8080/"
    },
    "id": "kXzAa1HVlVTz",
    "outputId": "0169ac67-1917-43fb-fac1-c9e3a7100dce"
   },
   "outputs": [],
   "source": [
    "# find outliers for url_length variable\n",
    "\n",
    "IQR = df.url_length.quantile(0.75) - df.url_length.quantile(0.25)\n",
    "Lower_fence = df.url_length.quantile(0.25) - (IQR * 3)\n",
    "Upper_fence = df.url_length.quantile(0.75) + (IQR * 3)\n",
    "print('url_length outliers are values < {lowerboundary} or > {upperboundary}'.format(lowerboundary=Lower_fence, upperboundary=Upper_fence))"
   ]
  },
  {
   "cell_type": "code",
   "execution_count": null,
   "metadata": {
    "colab": {
     "base_uri": "https://localhost:8080/"
    },
    "id": "uqvhc8IJi4Xc",
    "outputId": "2a416981-d5b7-4319-93c3-2e11a2cb8b13"
   },
   "outputs": [],
   "source": [
    "# find outliers for roo_len variable\n",
    "\n",
    "IQR = df.roo_len.quantile(0.75) - df.roo_len.quantile(0.25)\n",
    "Lower_fence = df.roo_len.quantile(0.25) - (IQR * 3)\n",
    "Upper_fence = df.roo_len.quantile(0.75) + (IQR * 3)\n",
    "print('roo_len  outliers are values < {lowerboundary} or > {upperboundary}'.format(lowerboundary=Lower_fence, upperboundary=Upper_fence))"
   ]
  },
  {
   "cell_type": "code",
   "execution_count": null,
   "metadata": {
    "colab": {
     "base_uri": "https://localhost:8080/"
    },
    "id": "Zdi1KXMOi4Z-",
    "outputId": "41696b43-fd8f-4a4f-bf97-8fea5cf4f50c"
   },
   "outputs": [],
   "source": [
    "# find outliers for dom_len variable\n",
    "\n",
    "IQR = df.dom_len.quantile(0.75) - df.dom_len.quantile(0.25)\n",
    "Lower_fence = df.dom_len.quantile(0.25) - (IQR * 3)\n",
    "Upper_fence = df.dom_len.quantile(0.75) + (IQR * 3)\n",
    "print('dom_len outliers are values < {lowerboundary} or > {upperboundary}'.format(lowerboundary=Lower_fence, upperboundary=Upper_fence))"
   ]
  },
  {
   "cell_type": "markdown",
   "metadata": {
    "id": "15pwcx5pmbB7"
   },
   "source": [
    "#  Declare feature vector and target variable"
   ]
  },
  {
   "cell_type": "code",
   "execution_count": null,
   "metadata": {
    "id": "Yki6LmGF7-97"
   },
   "outputs": [],
   "source": [
    "# Split into X & y and train/test\n",
    "X = df.drop(columns=[\"url_length\", \"domain_name\"], axis=1)\n",
    "y = df.url_length"
   ]
  },
  {
   "cell_type": "markdown",
   "metadata": {
    "id": "a6LJLTizmiZR"
   },
   "source": [
    " # Split data into separate training and test set"
   ]
  },
  {
   "cell_type": "code",
   "execution_count": null,
   "metadata": {
    "colab": {
     "base_uri": "https://localhost:8080/"
    },
    "id": "S_EMUWn8mh5Z",
    "outputId": "ebd1332c-46b7-49b8-c18e-fab061d27e69"
   },
   "outputs": [],
   "source": [
    "X_train, X_test, y_train, y_test = train_test_split(X, y, test_size=0.2, random_state = 0)\n",
    "print(f\"X_train Shape : {X_train.shape}\")\n",
    "print(f\"Y_train Shape : {y_train.shape}\")\n",
    "print(f\"X_test  Shape : {X_test.shape}\")\n",
    "print(f\"Y_test  Shape : {y_test.shape}\")"
   ]
  },
  {
   "cell_type": "code",
   "execution_count": null,
   "metadata": {
    "colab": {
     "base_uri": "https://localhost:8080/",
     "height": 300
    },
    "id": "WtRk-1sT8qm0",
    "outputId": "54515ac3-bcd6-4ade-9e2b-930c0086627f"
   },
   "outputs": [],
   "source": [
    "X_train.describe()"
   ]
  },
  {
   "cell_type": "code",
   "execution_count": null,
   "metadata": {
    "colab": {
     "base_uri": "https://localhost:8080/",
     "height": 423
    },
    "id": "KgbSQ3ZyYsS-",
    "outputId": "a45b3c22-962b-46e8-c499-59d37b89c031"
   },
   "outputs": [],
   "source": [
    "X_train"
   ]
  },
  {
   "cell_type": "markdown",
   "metadata": {
    "id": "OQwkQxOXmwCs"
   },
   "source": [
    "# Feature Engineering"
   ]
  },
  {
   "cell_type": "code",
   "execution_count": null,
   "metadata": {
    "colab": {
     "base_uri": "https://localhost:8080/"
    },
    "id": "KipdWaS-mwHa",
    "outputId": "52e5a263-c0aa-461c-d5e8-2d1ab2843643"
   },
   "outputs": [],
   "source": [
    "# check data types in X_train\n",
    "\n",
    "X_train.dtypes"
   ]
  },
  {
   "cell_type": "code",
   "execution_count": null,
   "metadata": {
    "colab": {
     "base_uri": "https://localhost:8080/"
    },
    "id": "7Z23hz2cm1ya",
    "outputId": "e1d58e25-e642-41cf-c524-f02213c21549"
   },
   "outputs": [],
   "source": [
    "# display categorical variables\n",
    "\n",
    "categorical = [col for col in X_train.columns if X_train[col].dtypes == 'O']\n",
    "\n",
    "categorical"
   ]
  },
  {
   "cell_type": "code",
   "execution_count": null,
   "metadata": {
    "colab": {
     "base_uri": "https://localhost:8080/"
    },
    "id": "k6UQP-olm10s",
    "outputId": "29779659-bc28-49fd-f566-cddc944ba8d0"
   },
   "outputs": [],
   "source": [
    "# display numerical variables\n",
    "\n",
    "numerical = [col for col in X_train.columns if X_train[col].dtypes != 'O']\n",
    "\n",
    "numerical"
   ]
  },
  {
   "cell_type": "code",
   "execution_count": null,
   "metadata": {
    "colab": {
     "base_uri": "https://localhost:8080/"
    },
    "id": "HFPOWZVwm13F",
    "outputId": "001caba4-85d6-4695-b865-c58f207c1888"
   },
   "outputs": [],
   "source": [
    "# check missing values in numerical variables in X_train\n",
    "\n",
    "X_train[numerical].isnull().sum()"
   ]
  },
  {
   "cell_type": "code",
   "execution_count": null,
   "metadata": {
    "colab": {
     "base_uri": "https://localhost:8080/",
     "height": 300
    },
    "id": "nruIf-nSxFin",
    "outputId": "9153ee49-f460-4ccc-97fb-163426d15206"
   },
   "outputs": [],
   "source": [
    "X_train[numerical].describe()"
   ]
  },
  {
   "cell_type": "code",
   "execution_count": null,
   "metadata": {
    "colab": {
     "base_uri": "https://localhost:8080/"
    },
    "id": "HhQphqLkm15q",
    "outputId": "8a3cc9ff-00cc-438e-a86f-0032bc4eaf09"
   },
   "outputs": [],
   "source": [
    "# check missing values in numerical variables in X_test\n",
    "\n",
    "X_test[numerical].isnull().sum()"
   ]
  },
  {
   "cell_type": "code",
   "execution_count": null,
   "metadata": {
    "colab": {
     "base_uri": "https://localhost:8080/",
     "height": 300
    },
    "id": "QlaAP4Z3xNqO",
    "outputId": "fc753047-307d-4058-d6ba-6172e2f6f919"
   },
   "outputs": [],
   "source": [
    "X_test[numerical].describe()"
   ]
  },
  {
   "cell_type": "code",
   "execution_count": null,
   "metadata": {
    "colab": {
     "base_uri": "https://localhost:8080/"
    },
    "id": "TXiRQ_j0nJfk",
    "outputId": "2e11c11d-351d-4978-ddc6-d10bcab029be"
   },
   "outputs": [],
   "source": [
    "X_train.dom_len.max(), X_test.dom_len.max()"
   ]
  },
  {
   "cell_type": "code",
   "execution_count": null,
   "metadata": {
    "colab": {
     "base_uri": "https://localhost:8080/"
    },
    "id": "F5Dx6W4InJhx",
    "outputId": "b81b5539-5500-4f6b-f54c-53997e122481"
   },
   "outputs": [],
   "source": [
    "X_train.roo_len.max(), X_test.roo_len.max()"
   ]
  },
  {
   "cell_type": "code",
   "execution_count": null,
   "metadata": {
    "id": "ihQ52ue5nJkJ"
   },
   "outputs": [],
   "source": [
    "# encode Domain variable\n",
    "\n",
    "import category_encoders as ce\n",
    "\n",
    "encoder = ce.BinaryEncoder(cols=['Domain'])\n",
    "\n",
    "X_train = encoder.fit_transform(X_train)\n",
    "\n",
    "X_test = encoder.transform(X_test)"
   ]
  },
  {
   "cell_type": "code",
   "execution_count": null,
   "metadata": {
    "colab": {
     "base_uri": "https://localhost:8080/",
     "height": 290
    },
    "id": "-o0-RxianJmV",
    "outputId": "99126925-88da-4f67-b6fa-477ef2745810"
   },
   "outputs": [],
   "source": [
    "X_train.head()"
   ]
  },
  {
   "cell_type": "code",
   "execution_count": null,
   "metadata": {
    "id": "aGqxndq5nFy-"
   },
   "outputs": [],
   "source": [
    "X_train = pd.concat([X_train[numerical], X_train[['Domain_13', 'Domain_14']],\n",
    "                     pd.get_dummies(X_train.Family)],\n",
    "                     axis=1)"
   ]
  },
  {
   "cell_type": "code",
   "execution_count": null,
   "metadata": {
    "colab": {
     "base_uri": "https://localhost:8080/",
     "height": 255
    },
    "id": "BktX-gy-nF1d",
    "outputId": "0a4dee0f-1329-4339-cf8a-0e5a91d14490"
   },
   "outputs": [],
   "source": [
    "X_train.head()"
   ]
  },
  {
   "cell_type": "code",
   "execution_count": null,
   "metadata": {
    "id": "s8BFkZ6bnF3r"
   },
   "outputs": [],
   "source": [
    "X_test = pd.concat([X_test[numerical], X_test[['Domain_13', 'Domain_14']],\n",
    "                     pd.get_dummies(X_test.Family)],\n",
    "                     axis=1)"
   ]
  },
  {
   "cell_type": "code",
   "execution_count": null,
   "metadata": {
    "colab": {
     "base_uri": "https://localhost:8080/",
     "height": 255
    },
    "id": "eIkZBJAxqRX0",
    "outputId": "b06a0d48-8030-4fb4-b4d2-9926c16318ed"
   },
   "outputs": [],
   "source": [
    "X_test.head()"
   ]
  },
  {
   "cell_type": "markdown",
   "metadata": {
    "id": "FDpWWLqGqWBs"
   },
   "source": [
    "Noe there are training and testing set ready for model building.\n",
    "\n",
    "# Feature Scaling\n",
    "This will map all the feature variables onto the same scale."
   ]
  },
  {
   "cell_type": "code",
   "execution_count": null,
   "metadata": {
    "colab": {
     "base_uri": "https://localhost:8080/",
     "height": 300
    },
    "id": "P_nVSZIeqRaR",
    "outputId": "cb1bd122-232c-427b-c658-f34f40f4199a"
   },
   "outputs": [],
   "source": [
    "X_train.describe()"
   ]
  },
  {
   "cell_type": "code",
   "execution_count": null,
   "metadata": {
    "id": "MFOdLqhiqRcq"
   },
   "outputs": [],
   "source": [
    "cols = X_train.columns"
   ]
  },
  {
   "cell_type": "code",
   "execution_count": null,
   "metadata": {
    "id": "5881oBxTqRek"
   },
   "outputs": [],
   "source": [
    "from sklearn.preprocessing import MinMaxScaler\n",
    "\n",
    "\n",
    "scaler = MinMaxScaler()\n",
    "\n",
    "# Fit and transform on training data\n",
    "X_train = scaler.fit_transform(X_train)\n",
    "\n",
    "# Only transform on test data, using the parameters learned from training data\n",
    "X_test = scaler.transform(X_test)"
   ]
  },
  {
   "cell_type": "code",
   "execution_count": null,
   "metadata": {
    "id": "kIW2kKDtqwPe"
   },
   "outputs": [],
   "source": [
    "X_train = pd.DataFrame(X_train, columns=[cols])"
   ]
  },
  {
   "cell_type": "code",
   "execution_count": null,
   "metadata": {
    "id": "uy2sAMZoskL8"
   },
   "outputs": [],
   "source": [
    "X_test = pd.DataFrame(X_test, columns=[cols])"
   ]
  },
  {
   "cell_type": "code",
   "execution_count": null,
   "metadata": {
    "colab": {
     "base_uri": "https://localhost:8080/",
     "height": 349
    },
    "id": "USh0CqOmqwT3",
    "outputId": "353c6cb9-9c9a-4387-b928-852ee210047d"
   },
   "outputs": [],
   "source": [
    "X_train.describe()"
   ]
  },
  {
   "cell_type": "code",
   "execution_count": null,
   "metadata": {
    "id": "oTQqxtfFqwRv"
   },
   "outputs": [],
   "source": []
  },
  {
   "cell_type": "markdown",
   "metadata": {
    "id": "w4CCDFstsQOg"
   },
   "source": [
    "# Model training"
   ]
  },
  {
   "cell_type": "code",
   "execution_count": null,
   "metadata": {
    "colab": {
     "base_uri": "https://localhost:8080/",
     "height": 74
    },
    "id": "TW4lM_GjqwWG",
    "outputId": "5e3a5dcc-22e8-42a4-eb0e-66cb02f11f50"
   },
   "outputs": [],
   "source": [
    "\n",
    "# instantiate the model\n",
    "logreg = LogisticRegression(solver='liblinear', random_state=0)\n",
    "\n",
    "\n",
    "# fit the model\n",
    "logreg.fit(X_train, y_train)"
   ]
  },
  {
   "cell_type": "markdown",
   "metadata": {
    "id": "Prf7D8b2y-vY"
   },
   "source": [
    "# Predict results"
   ]
  },
  {
   "cell_type": "code",
   "execution_count": null,
   "metadata": {
    "colab": {
     "base_uri": "https://localhost:8080/"
    },
    "id": "UbASJHG5qwYX",
    "outputId": "d813dfc9-1786-4d3c-81d4-6c664e322ddf"
   },
   "outputs": [],
   "source": [
    "y_pred_test = logreg.predict(X_test)\n",
    "\n",
    "y_pred_test"
   ]
  },
  {
   "cell_type": "markdown",
   "metadata": {
    "id": "DR533U7asU0_"
   },
   "source": [
    "`predict_proba` method gives the probabilities for the target variable(0 and 1) in this case, in array form."
   ]
  },
  {
   "cell_type": "code",
   "execution_count": null,
   "metadata": {
    "colab": {
     "base_uri": "https://localhost:8080/"
    },
    "id": "4Y4aKBucqwaj",
    "outputId": "2d990508-eb6e-4da6-c3ed-a4109dd4a2ed"
   },
   "outputs": [],
   "source": [
    "# probability of getting output as 0 - no rain\n",
    "\n",
    "logreg.predict_proba(X_test)[:,0]"
   ]
  },
  {
   "cell_type": "markdown",
   "metadata": {
    "id": "XQEjI6yRzC_e"
   },
   "source": [
    "# Check accuracy score"
   ]
  },
  {
   "cell_type": "code",
   "execution_count": null,
   "metadata": {
    "colab": {
     "base_uri": "https://localhost:8080/"
    },
    "id": "NYA2gX0rqwc3",
    "outputId": "3ffcca19-5f3a-47a0-c2ed-90ba829645b7"
   },
   "outputs": [],
   "source": [
    "from sklearn.metrics import accuracy_score\n",
    "\n",
    "print('Model accuracy score: {0:0.4f}'. format(accuracy_score(y_test, y_pred_test)))"
   ]
  },
  {
   "cell_type": "markdown",
   "metadata": {
    "id": "_SDIMPu0zIe4"
   },
   "source": [
    "Compare the train-set and test-set accuracy¶\n",
    "Now, I will compare the train-set and test-set accuracy to check for overfitting."
   ]
  },
  {
   "cell_type": "code",
   "execution_count": null,
   "metadata": {
    "colab": {
     "base_uri": "https://localhost:8080/"
    },
    "id": "D9vJK1DFzIl_",
    "outputId": "3ce8273d-2e8a-472b-bffb-26c67091ded2"
   },
   "outputs": [],
   "source": [
    "y_pred_train = logreg.predict(X_train)\n",
    "\n",
    "y_pred_train"
   ]
  },
  {
   "cell_type": "code",
   "execution_count": null,
   "metadata": {
    "colab": {
     "base_uri": "https://localhost:8080/"
    },
    "id": "yMFZIySlzIos",
    "outputId": "1be4a45e-af2c-481a-fa89-32aa8655080f"
   },
   "outputs": [],
   "source": [
    "print('Training-set accuracy score: {0:0.4f}'. format(accuracy_score(y_train, y_pred_train)))"
   ]
  },
  {
   "cell_type": "code",
   "execution_count": null,
   "metadata": {
    "colab": {
     "base_uri": "https://localhost:8080/"
    },
    "id": "tmGW98WhzIrG",
    "outputId": "413f61bf-9382-4e56-96bf-9596f772c283"
   },
   "outputs": [],
   "source": [
    "# print the scores on training and test set\n",
    "\n",
    "print('Training set score: {:.4f}'.format(logreg.score(X_train, y_train)))\n",
    "\n",
    "print('Test set score: {:.4f}'.format(logreg.score(X_test, y_test)))"
   ]
  },
  {
   "cell_type": "code",
   "execution_count": null,
   "metadata": {
    "colab": {
     "base_uri": "https://localhost:8080/",
     "height": 74
    },
    "id": "xKChjs1hzItw",
    "outputId": "f209d638-1d76-46a5-8efe-eddf6f3781c1"
   },
   "outputs": [],
   "source": [
    "# fit the Logsitic Regression model with C=100\n",
    "\n",
    "# instantiate the model\n",
    "logreg100 = LogisticRegression(C=100, solver='liblinear', random_state=0)\n",
    "\n",
    "\n",
    "# fit the model\n",
    "logreg100.fit(X_train, y_train)"
   ]
  },
  {
   "cell_type": "code",
   "execution_count": null,
   "metadata": {
    "colab": {
     "base_uri": "https://localhost:8080/"
    },
    "id": "MQifpdc3zRCI",
    "outputId": "2c6dfde0-0e06-4264-8cfe-97983d4d5db1"
   },
   "outputs": [],
   "source": [
    "# print the scores on training and test set\n",
    "\n",
    "print('Training set score: {:.4f}'.format(logreg100.score(X_train, y_train)))\n",
    "\n",
    "print('Test set score: {:.4f}'.format(logreg100.score(X_test, y_test)))"
   ]
  },
  {
   "cell_type": "code",
   "execution_count": null,
   "metadata": {
    "colab": {
     "base_uri": "https://localhost:8080/",
     "height": 74
    },
    "id": "Iuf21udrzRER",
    "outputId": "851fa154-bb36-4e3f-b3e7-d94eace3811b"
   },
   "outputs": [],
   "source": [
    "# fit the Logsitic Regression model with C=001\n",
    "\n",
    "# instantiate the model\n",
    "logreg001 = LogisticRegression(C=0.01, solver='liblinear', random_state=0)\n",
    "\n",
    "\n",
    "# fit the model\n",
    "logreg001.fit(X_train, y_train)"
   ]
  },
  {
   "cell_type": "code",
   "execution_count": null,
   "metadata": {
    "colab": {
     "base_uri": "https://localhost:8080/"
    },
    "id": "iLD2Cx2GzRGp",
    "outputId": "0916058b-6cfb-47d9-f487-58a6e83badd7"
   },
   "outputs": [],
   "source": [
    "# print the scores on training and test set\n",
    "\n",
    "print('Training set score: {:.4f}'.format(logreg001.score(X_train, y_train)))\n",
    "\n",
    "print('Test set score: {:.4f}'.format(logreg001.score(X_test, y_test)))"
   ]
  },
  {
   "cell_type": "markdown",
   "metadata": {
    "id": "LmL-B97ozcx4"
   },
   "source": [
    "So, if we use more regularized model by setting C=0.01, then both the training and test set accuracy decrease relatiev to the default parameters."
   ]
  },
  {
   "cell_type": "markdown",
   "metadata": {
    "id": "c-UN32V91Y0A"
   },
   "source": [
    "# Classification Report"
   ]
  },
  {
   "cell_type": "code",
   "execution_count": null,
   "metadata": {
    "colab": {
     "base_uri": "https://localhost:8080/"
    },
    "id": "wJvu1mtC1Y4g",
    "outputId": "48a61a41-deb0-4d01-82ed-89b8ca424ff7"
   },
   "outputs": [],
   "source": [
    "from sklearn.metrics import classification_report\n",
    "\n",
    "print(classification_report(y_test, y_pred_test))"
   ]
  },
  {
   "cell_type": "code",
   "execution_count": null,
   "metadata": {
    "colab": {
     "base_uri": "https://localhost:8080/"
    },
    "id": "72NpoAID2ABx",
    "outputId": "fe51430f-28b9-4998-ac85-925dc49ed7fc"
   },
   "outputs": [],
   "source": [
    "y_pred_test = logreg.predict(X_test)\n",
    "\n",
    "y_pred_test"
   ]
  },
  {
   "cell_type": "code",
   "execution_count": null,
   "metadata": {
    "id": "W9V2DyPo1vJo"
   },
   "outputs": [],
   "source": []
  },
  {
   "cell_type": "markdown",
   "metadata": {
    "id": "KMP-S-d_zy9x"
   },
   "source": [
    "# Confusion matrix"
   ]
  },
  {
   "cell_type": "code",
   "execution_count": null,
   "metadata": {
    "colab": {
     "base_uri": "https://localhost:8080/"
    },
    "id": "8JfMqWdSzRNb",
    "outputId": "34a4bf1b-9b2e-4690-a54a-800958064b8f"
   },
   "outputs": [],
   "source": [
    "# Print the Confusion Matrix and slice it into four pieces\n",
    "\n",
    "from sklearn.metrics import confusion_matrix\n",
    "\n",
    "cm = confusion_matrix(y_test, y_pred_test)\n",
    "\n",
    "print('Confusion matrix\\n\\n', cm)\n"
   ]
  },
  {
   "cell_type": "code",
   "execution_count": null,
   "metadata": {
    "colab": {
     "base_uri": "https://localhost:8080/"
    },
    "id": "s6hdJgSY0MVH",
    "outputId": "548ccd9e-009d-4334-e66b-fb693e1087cc"
   },
   "outputs": [],
   "source": [
    "print('Shape of y_test:', y_test.shape)\n",
    "print('Shape of y_pred_test:', y_pred_test.shape)"
   ]
  },
  {
   "cell_type": "code",
   "execution_count": null,
   "metadata": {
    "id": "F21fvGU00PlO"
   },
   "outputs": [],
   "source": [
    "y_test = y_test.ravel()  # Reshape y_test to make it one-dimensional\n",
    "y_pred_test = y_pred_test.ravel()  # Reshape y_pred_test to make it one-dimensional"
   ]
  },
  {
   "cell_type": "markdown",
   "metadata": {
    "id": "TcuXDvL13QGk"
   },
   "source": [
    "# Second try - Logisitic Regression"
   ]
  },
  {
   "cell_type": "code",
   "execution_count": null,
   "metadata": {
    "colab": {
     "base_uri": "https://localhost:8080/",
     "height": 423
    },
    "id": "JcjLPx4jzvss",
    "outputId": "fa94b7d4-616b-47e0-b455-5d2808a17393"
   },
   "outputs": [],
   "source": [
    "df"
   ]
  },
  {
   "cell_type": "code",
   "execution_count": null,
   "metadata": {
    "id": "3Pa_MK2Czvu0"
   },
   "outputs": [],
   "source": [
    "# Split into X & y and train/test\n",
    "X = df.drop(\"label\", axis=1)\n",
    "y = df.label\n"
   ]
  },
  {
   "cell_type": "markdown",
   "metadata": {
    "id": "SQc7VZF035OD"
   },
   "source": [
    "# 3.2 Second Try\n",
    "\n",
    "### Convert Categorical type into float"
   ]
  },
  {
   "cell_type": "code",
   "execution_count": null,
   "metadata": {
    "colab": {
     "base_uri": "https://localhost:8080/"
    },
    "id": "ipShjFKo7Vzk",
    "outputId": "b29abe51-8ee3-4424-f68a-0eaae7d21b10"
   },
   "outputs": [],
   "source": [
    "# 1. Import OneHotEncoder and ColumnTransformer\n",
    "from sklearn.preprocessing import OneHotEncoder\n",
    "from sklearn.compose import ColumnTransformer\n",
    "\n",
    "# 2. Define the categorical features to transform\n",
    "categorical_features = [\"Domain\", \"Family\", \"url_length\", \"root_domain\", \"domain_name\"]\n",
    "# 3. Create an instance of OneHotEncoder\n",
    "one_hot = OneHotEncoder()\n",
    "\n",
    "# 4. Create an instance of ColumnTransformer\n",
    "transformer = ColumnTransformer([(\"one_hot\", # name\n",
    "                                  one_hot, # transformer\n",
    "                                  categorical_features)], # columns to transform\n",
    "                                  remainder=\"passthrough\") # what to do with the rest of the columns? (\"passthrough\" = leave unchanged)\n",
    "\n",
    "# 5. Turn the categorical features into numbers (this will return an array-like sparse matrix, not a DataFrame)\n",
    "transformed_xx = transformer.fit_transform(X)\n",
    "transformed_xx"
   ]
  },
  {
   "cell_type": "code",
   "execution_count": null,
   "metadata": {
    "id": "Q26odnOG7aeT"
   },
   "outputs": [],
   "source": [
    "trainX, testX, trainY, testY = train_test_split(transformed_xx, df.url_length, test_size=0.33, random_state=42)"
   ]
  },
  {
   "cell_type": "markdown",
   "metadata": {
    "id": "8VXXmbI73byN"
   },
   "source": [
    "# Fit the model to the training data"
   ]
  },
  {
   "cell_type": "code",
   "execution_count": null,
   "metadata": {
    "id": "OzWJL8h4Jofg"
   },
   "outputs": [],
   "source": [
    "# create lr object\n",
    "lr = LogisticRegression(solver='liblinear', random_state=42)"
   ]
  },
  {
   "cell_type": "code",
   "execution_count": null,
   "metadata": {
    "colab": {
     "base_uri": "https://localhost:8080/"
    },
    "id": "pSJHLvxy3fN2",
    "outputId": "dcb400d0-f187-4080-8b08-c8ed5ae7ad10"
   },
   "outputs": [],
   "source": [
    "lr.get_params()"
   ]
  },
  {
   "cell_type": "code",
   "execution_count": null,
   "metadata": {
    "colab": {
     "base_uri": "https://localhost:8080/",
     "height": 74
    },
    "id": "whQX_3EOLfla",
    "outputId": "113f2290-4a13-49db-ad03-3cac1f700434"
   },
   "outputs": [],
   "source": [
    "lr.fit(trainX,trainY)"
   ]
  },
  {
   "cell_type": "markdown",
   "metadata": {
    "id": "1o1OzyHb3mBT"
   },
   "source": [
    "# Make a prediction"
   ]
  },
  {
   "cell_type": "code",
   "execution_count": null,
   "metadata": {
    "colab": {
     "base_uri": "https://localhost:8080/"
    },
    "id": "2SidvhCU3leX",
    "outputId": "eafc287c-ab7f-470a-e76f-c2b599629658"
   },
   "outputs": [],
   "source": [
    "y_pred1 = lr.predict(testX)\n",
    "y_pred1"
   ]
  },
  {
   "cell_type": "markdown",
   "metadata": {
    "id": "ilDjfYng331c"
   },
   "source": [
    "# Score the model"
   ]
  },
  {
   "cell_type": "code",
   "execution_count": null,
   "metadata": {
    "colab": {
     "base_uri": "https://localhost:8080/"
    },
    "id": "CJmxBlduMd4p",
    "outputId": "8333e472-a47f-4710-f72b-9c9114b354f8"
   },
   "outputs": [],
   "source": [
    "lr.score(trainX,trainY)"
   ]
  },
  {
   "cell_type": "code",
   "execution_count": null,
   "metadata": {
    "colab": {
     "base_uri": "https://localhost:8080/",
     "height": 74
    },
    "id": "MQfuoQ8yVW5H",
    "outputId": "762a2ad3-d609-4233-e73e-f2579ed5b2d1"
   },
   "outputs": [],
   "source": [
    "lr.fit(testX, testY)"
   ]
  },
  {
   "cell_type": "code",
   "execution_count": null,
   "metadata": {
    "colab": {
     "base_uri": "https://localhost:8080/"
    },
    "id": "D6YVlqcdLhiw",
    "outputId": "a4ca6c2d-aa83-4f4c-d85a-dd1b02fad0aa"
   },
   "outputs": [],
   "source": [
    "lr.score(testX, testY)"
   ]
  },
  {
   "cell_type": "markdown",
   "metadata": {
    "id": "b1vQ2cJb4J8D"
   },
   "source": [
    "# Classification Report"
   ]
  },
  {
   "cell_type": "code",
   "execution_count": null,
   "metadata": {
    "colab": {
     "base_uri": "https://localhost:8080/"
    },
    "id": "WUS_nQXf4LDr",
    "outputId": "7d066d2f-0062-417b-9c12-ba4ef1fad614"
   },
   "outputs": [],
   "source": [
    "# View the classification report for test data and predictions\n",
    "print(classification_report(testY, y_pred1))"
   ]
  },
  {
   "cell_type": "markdown",
   "metadata": {
    "id": "lbSGvgEebyJ2"
   },
   "source": [
    "# Confusion Matrix\n",
    "Confusion matrix\n",
    "The next way to evaluate a classification model is by using a confusion matrix.\n",
    "\n",
    "A confusion matrix is a quick way to compare the labels a model predicts and the actual labels it was supposed to predict. In essence, giving you an idea of where the model is getting confused."
   ]
  },
  {
   "cell_type": "code",
   "execution_count": null,
   "metadata": {
    "colab": {
     "base_uri": "https://localhost:8080/"
    },
    "id": "I2DDiPUN4kYl",
    "outputId": "b8233508-f030-438a-cebe-8a9ce84367a5"
   },
   "outputs": [],
   "source": [
    "cm1 = confusion_matrix(testY, y_pred1)\n",
    "print(cm1)"
   ]
  },
  {
   "cell_type": "code",
   "execution_count": null,
   "metadata": {
    "colab": {
     "base_uri": "https://localhost:8080/",
     "height": 598
    },
    "id": "0jVohy8PabIe",
    "outputId": "8310244d-36bd-4cb5-c8d7-c3bb08ff475b"
   },
   "outputs": [],
   "source": [
    "# Get and reshape confusion matrix data\n",
    "matrix2 = confusion_matrix(testY, y_pred1)\n",
    "matrix2 = matrix2.astype('float') / matrix2.sum(axis=1)[:, np.newaxis]\n",
    "\n",
    "# Build the plot\n",
    "plt.figure(figsize=(16,7))\n",
    "sns.set(font_scale=0.4)\n",
    "sns.heatmap(matrix2, annot=True, annot_kws={'size':10},\n",
    "            cmap=plt.cm.Greens, linewidths=0.2)\n",
    "\n",
    "# Add labels to the plot\n",
    "\n",
    "plt.xlabel('Predicted label')\n",
    "plt.ylabel('True label')\n",
    "plt.title('Confusion Matrix for Logistic Regression')\n",
    "plt.show()"
   ]
  },
  {
   "cell_type": "markdown",
   "metadata": {
    "id": "AntMh6714khl"
   },
   "source": [
    "# 4 Multi-Layer Perceptron Classifier\n",
    "# 4.1 First Try"
   ]
  },
  {
   "cell_type": "code",
   "execution_count": null,
   "metadata": {
    "id": "MS5p3Eoi4myF"
   },
   "outputs": [],
   "source": [
    "from sklearn.neural_network import MLPClassifier\n",
    "from sklearn.feature_extraction.text import CountVectorizer\n",
    "from sklearn.model_selection import cross_validate"
   ]
  },
  {
   "cell_type": "code",
   "execution_count": null,
   "metadata": {
    "colab": {
     "base_uri": "https://localhost:8080/",
     "height": 423
    },
    "id": "z0iPU3V64nF9",
    "outputId": "f2f5eebc-955a-4e4f-dad8-fd29b3088752"
   },
   "outputs": [],
   "source": [
    "data"
   ]
  },
  {
   "cell_type": "code",
   "execution_count": null,
   "metadata": {
    "colab": {
     "base_uri": "https://localhost:8080/",
     "height": 423
    },
    "id": "1W5hkESi4nIO",
    "outputId": "1c7de5bf-e521-419f-d883-40d82be231a9"
   },
   "outputs": [],
   "source": [
    "df"
   ]
  },
  {
   "cell_type": "markdown",
   "metadata": {
    "id": "9QVApkgT4jDb"
   },
   "source": [
    "# Create train/test data for Multi-Layer Perceptron Classifier"
   ]
  },
  {
   "cell_type": "code",
   "execution_count": null,
   "metadata": {
    "id": "OrtpG9bq4nKu"
   },
   "outputs": [],
   "source": [
    "count_vectorizer = CountVectorizer()\n",
    "peh_vectors = count_vectorizer.fit_transform(df[\"Domain\"])"
   ]
  },
  {
   "cell_type": "markdown",
   "metadata": {
    "id": "OIssPoSO4uql"
   },
   "source": [
    "#  Create the model instance"
   ]
  },
  {
   "cell_type": "code",
   "execution_count": null,
   "metadata": {
    "id": "6uwvnAi74nNQ"
   },
   "outputs": [],
   "source": [
    "Xtrain, Xtest, ytrain, ytest = train_test_split(peh_vectors, df[\"url_length\"], shuffle = True, test_size=0.33, random_state=42)"
   ]
  },
  {
   "cell_type": "markdown",
   "metadata": {
    "id": "liUbQ-yV40DK"
   },
   "source": [
    "# Fit the model to the training data"
   ]
  },
  {
   "cell_type": "code",
   "execution_count": null,
   "metadata": {
    "colab": {
     "base_uri": "https://localhost:8080/",
     "height": 74
    },
    "id": "WzRKl62r4nQG",
    "outputId": "b613115c-d30f-494a-8d96-be30e44c1859"
   },
   "outputs": [],
   "source": [
    "mlp_peh = MLPClassifier(hidden_layer_sizes = (6,5), random_state = 3)\n",
    "\n",
    "mlp_peh.fit(Xtrain, ytrain)"
   ]
  },
  {
   "cell_type": "markdown",
   "metadata": {
    "id": "fhojIxyI42SB"
   },
   "source": [
    "#  Make a prediction"
   ]
  },
  {
   "cell_type": "code",
   "execution_count": null,
   "metadata": {
    "colab": {
     "base_uri": "https://localhost:8080/"
    },
    "id": "LqHO53k1455M",
    "outputId": "24709dfc-9920-4593-e7e0-c05fcacf8efb"
   },
   "outputs": [],
   "source": [
    "ypred = mlp_peh.predict(Xtest)\n",
    "ypred"
   ]
  },
  {
   "cell_type": "markdown",
   "metadata": {
    "id": "51O7bmgN47hR"
   },
   "source": [
    "# Score the model"
   ]
  },
  {
   "cell_type": "code",
   "execution_count": null,
   "metadata": {
    "colab": {
     "base_uri": "https://localhost:8080/"
    },
    "id": "VRnZfMkWX5p7",
    "outputId": "832ab62f-7b80-4ee2-e4bc-302c845640fb"
   },
   "outputs": [],
   "source": [
    "mlp_peh.score(Xtrain, ytrain)"
   ]
  },
  {
   "cell_type": "code",
   "execution_count": null,
   "metadata": {
    "colab": {
     "base_uri": "https://localhost:8080/",
     "height": 74
    },
    "id": "rzLnvWeOX4bo",
    "outputId": "f9da4ee2-5edb-45a9-ba2b-0e04df74d343"
   },
   "outputs": [],
   "source": [
    "mlp_peh.fit(Xtest, ytest)"
   ]
  },
  {
   "cell_type": "code",
   "execution_count": null,
   "metadata": {
    "colab": {
     "base_uri": "https://localhost:8080/"
    },
    "id": "U7ERH3SuX-Y1",
    "outputId": "e5da5af6-907d-43b6-db35-27501205927c"
   },
   "outputs": [],
   "source": [
    "mlp_peh.score(Xtest, ytest)"
   ]
  },
  {
   "cell_type": "markdown",
   "metadata": {
    "id": "1fAUymHu5Bga"
   },
   "source": [
    "# Accuracy"
   ]
  },
  {
   "cell_type": "code",
   "execution_count": null,
   "metadata": {
    "colab": {
     "base_uri": "https://localhost:8080/"
    },
    "id": "VMan7NytXaD1",
    "outputId": "88ce0d0c-8c63-4951-f98c-731e19194e7f"
   },
   "outputs": [],
   "source": [
    "accuracy_score(ytest, ypred)"
   ]
  },
  {
   "cell_type": "markdown",
   "metadata": {
    "id": "Hi699vpMbnAm"
   },
   "source": [
    "# Classification Report"
   ]
  },
  {
   "cell_type": "code",
   "execution_count": null,
   "metadata": {
    "colab": {
     "base_uri": "https://localhost:8080/"
    },
    "id": "q8hwePgNXoo2",
    "outputId": "22667ed2-9902-45d0-a372-e122205f6b35"
   },
   "outputs": [],
   "source": [
    "# View the classification report for test data and predictions\n",
    "print(classification_report(ytest, ypred))"
   ]
  },
  {
   "cell_type": "markdown",
   "metadata": {
    "id": "F6Yv31bEbsBH"
   },
   "source": [
    "# Confusion Matrix"
   ]
  },
  {
   "cell_type": "code",
   "execution_count": null,
   "metadata": {
    "colab": {
     "base_uri": "https://localhost:8080/"
    },
    "id": "sr0f1WGnb7qO",
    "outputId": "970026de-53dd-48e7-ac73-472f0f217951"
   },
   "outputs": [],
   "source": [
    "cm = confusion_matrix(ytest, ypred)\n",
    "print(cm)"
   ]
  },
  {
   "cell_type": "code",
   "execution_count": null,
   "metadata": {
    "colab": {
     "base_uri": "https://localhost:8080/",
     "height": 604
    },
    "id": "71MPKa2NZz5E",
    "outputId": "4feea06d-a939-4acf-ee2e-f79658b4a818"
   },
   "outputs": [],
   "source": [
    "# Get and reshape confusion matrix data\n",
    "matri = confusion_matrix(ytest, ypred)\n",
    "matri = matri.astype('float') / matri.sum(axis=1)[:, np.newaxis]\n",
    "\n",
    "# Build the plot\n",
    "plt.figure(figsize=(16,7))\n",
    "sns.set(font_scale=0.8)\n",
    "sns.heatmap(matri, annot=True, annot_kws={'size':5},\n",
    "            cmap=plt.cm.Greens, linewidths=0.2)\n",
    "\n",
    "# Add labels to the plot\n",
    "\n",
    "plt.xlabel('Predicted label')\n",
    "plt.ylabel('True label')\n",
    "plt.title('Confusion Matrix for Multi-Layer Perceptron Classifier ')\n",
    "plt.show()"
   ]
  },
  {
   "cell_type": "markdown",
   "metadata": {
    "id": "DTDvZD_852HC"
   },
   "source": [
    "# 4.2 Second Try"
   ]
  },
  {
   "cell_type": "code",
   "execution_count": null,
   "metadata": {
    "colab": {
     "base_uri": "https://localhost:8080/",
     "height": 423
    },
    "id": "HxDHhRLjASEY",
    "outputId": "c298d4d1-adaf-4ca3-f63b-dafe9a55ad1b"
   },
   "outputs": [],
   "source": [
    "df"
   ]
  },
  {
   "cell_type": "code",
   "execution_count": null,
   "metadata": {
    "id": "W7s-uhPyZ3d7"
   },
   "outputs": [],
   "source": [
    "# splitting the data into independent and dependent variables\n",
    "x = df.drop(columns=['url_length'])\n",
    "y = df['url_length']"
   ]
  },
  {
   "cell_type": "markdown",
   "metadata": {
    "id": "INZHtsW-Dw9T"
   },
   "source": [
    "# Convert Categorical Type into Float Type"
   ]
  },
  {
   "cell_type": "code",
   "execution_count": null,
   "metadata": {
    "colab": {
     "base_uri": "https://localhost:8080/"
    },
    "id": "FEBzf6hbAljP",
    "outputId": "41cd38e7-2f00-4c9f-9cbd-e42737b22c21"
   },
   "outputs": [],
   "source": [
    "# 1. Import OneHotEncoder and ColumnTransformer\n",
    "from sklearn.preprocessing import OneHotEncoder\n",
    "from sklearn.compose import ColumnTransformer\n",
    "\n",
    "# 2. Define the categorical features to transform\n",
    "categorical_features = [\"Domain\", \"Family\", \"url_length\", \"fam_len\", \"root_domain\",\"roo_len\", \"domain_name\", \"dom_len\"]\n",
    "# 3. Create an instance of OneHotEncoder\n",
    "one_hot = OneHotEncoder()\n",
    "\n",
    "# 4. Create an instance of ColumnTransformer\n",
    "transformer = ColumnTransformer([(\"one_hot\", # name\n",
    "                                  one_hot, # transformer\n",
    "                                  categorical_features)], # columns to transform\n",
    "                                  remainder=\"passthrough\") # what to do with the rest of the columns? (\"passthrough\" = leave unchanged)\n",
    "\n",
    "# 5. Turn the categorical features into numbers (this will return an array-like sparse matrix, not a DataFrame)\n",
    "transformed_xx = transformer.fit_transform(X)\n",
    "transformed_xx"
   ]
  },
  {
   "cell_type": "code",
   "execution_count": null,
   "metadata": {
    "colab": {
     "base_uri": "https://localhost:8080/"
    },
    "id": "xH7WJAZw52ky",
    "outputId": "92a2dae9-cb74-4f2b-fc1b-261e92bef290"
   },
   "outputs": [],
   "source": [
    "# diving the dataset into training and testing sets\n",
    "from sklearn.model_selection import train_test_split\n",
    "x_train, x_test, y_train, y_test = train_test_split(transformed_xx, y, train_size=0.7, random_state=105)\n",
    "\n",
    "x_train.shape, x_test.shape"
   ]
  },
  {
   "cell_type": "code",
   "execution_count": null,
   "metadata": {
    "colab": {
     "base_uri": "https://localhost:8080/",
     "height": 74
    },
    "id": "JUyU0XqV52pe",
    "outputId": "553fc703-5acf-40b9-a415-271777053383"
   },
   "outputs": [],
   "source": [
    "# building the model\n",
    "from sklearn.neural_network import MLPClassifier\n",
    "model = MLPClassifier(hidden_layer_sizes=(x.shape[1], x.shape[1], x.shape[1]), max_iter=500, random_state=105)\n",
    "\n",
    "# training the model\n",
    "model.fit(x_train, y_train)"
   ]
  },
  {
   "cell_type": "code",
   "execution_count": null,
   "metadata": {
    "id": "_lm2pmHwCtQm"
   },
   "outputs": [],
   "source": [
    "y_pred = model.predict(x_test)"
   ]
  },
  {
   "cell_type": "code",
   "execution_count": null,
   "metadata": {
    "colab": {
     "base_uri": "https://localhost:8080/"
    },
    "id": "-rHLzK21CMXs",
    "outputId": "f593a4f9-a588-47da-8821-2bc14e49f692"
   },
   "outputs": [],
   "source": [
    "model.score(x_train, y_train)"
   ]
  },
  {
   "cell_type": "code",
   "execution_count": null,
   "metadata": {
    "colab": {
     "base_uri": "https://localhost:8080/"
    },
    "id": "FiJo1fcaCMaY",
    "outputId": "781e612e-d4f6-4d90-a612-5532d8f091f4"
   },
   "outputs": [],
   "source": [
    "model.score(x_test, y_test)"
   ]
  },
  {
   "cell_type": "code",
   "execution_count": null,
   "metadata": {
    "colab": {
     "base_uri": "https://localhost:8080/"
    },
    "id": "EBqGMhIrC7PD",
    "outputId": "edc38ef0-e395-4645-8829-4854ba7cd5d7"
   },
   "outputs": [],
   "source": [
    "# Calculate accuracy\n",
    "accuracy = accuracy_score(y_test, y_pred)\n",
    "print(\"Accuracy:\", accuracy)"
   ]
  },
  {
   "cell_type": "markdown",
   "metadata": {
    "id": "ugVieSEwDXw2"
   },
   "source": [
    "# Confusion Matrix"
   ]
  },
  {
   "cell_type": "code",
   "execution_count": null,
   "metadata": {
    "colab": {
     "base_uri": "https://localhost:8080/"
    },
    "id": "iUU4L8c0CMcx",
    "outputId": "1f14f958-43cf-4096-8bb7-70269670a462"
   },
   "outputs": [],
   "source": [
    "# View confusion matrix for test data and predictions\n",
    "confusion_matrix(y_test,  y_pred)"
   ]
  },
  {
   "cell_type": "code",
   "execution_count": null,
   "metadata": {
    "colab": {
     "base_uri": "https://localhost:8080/",
     "height": 604
    },
    "id": "Gsgd4ycIW3QG",
    "outputId": "6c8edc98-2350-435d-f472-414b3fb06d72"
   },
   "outputs": [],
   "source": [
    "# Get and reshape confusion matrix data\n",
    "matri = confusion_matrix(y_test,  y_pred)\n",
    "matri = matri.astype('float') / matri.sum(axis=1)[:, np.newaxis]\n",
    "\n",
    "# Build the plot\n",
    "plt.figure(figsize=(16,7))\n",
    "sns.set(font_scale=0.8)\n",
    "sns.heatmap(matri, annot=True, annot_kws={'size':5},\n",
    "            cmap=plt.cm.Greens, linewidths=0.2)\n",
    "\n",
    "# Add labels to the plot\n",
    "\n",
    "plt.xlabel('Predicted label')\n",
    "plt.ylabel('True label')\n",
    "plt.title('Confusion Matrix for Multi-Layer Perceptron Classifier ')\n",
    "plt.show()"
   ]
  },
  {
   "cell_type": "markdown",
   "metadata": {
    "id": "WohlmFvyCJVF"
   },
   "source": [
    "# Classification Report"
   ]
  },
  {
   "cell_type": "code",
   "execution_count": null,
   "metadata": {
    "colab": {
     "base_uri": "https://localhost:8080/"
    },
    "id": "Uv9w6Cq052r2",
    "outputId": "223d30be-c7ea-4e8b-b7d2-a9244f27c493"
   },
   "outputs": [],
   "source": [
    "# obtaining the classification report of the model\n",
    "from sklearn.metrics import classification_report\n",
    "print(classification_report(y_test, model.predict(x_test)))"
   ]
  },
  {
   "cell_type": "markdown",
   "metadata": {
    "id": "5RsQ16_-Bkdl"
   },
   "source": [
    "- Accuracy: 100%, which means that the model performs well\n",
    "- Precision: 100%, which means that 100% of the samples predicted to be positive were actually positive\n",
    "- Recall: 100%, which means that 100% of the total positive samples were predicted to be positive\n",
    "- F1 Score: 100%, which means that the model is very robust"
   ]
  },
  {
   "cell_type": "code",
   "execution_count": null,
   "metadata": {
    "colab": {
     "base_uri": "https://localhost:8080/"
    },
    "id": "Xm7LfEli52uH",
    "outputId": "9e1a64b6-d4a5-49ae-84c6-99ead696b09a"
   },
   "outputs": [],
   "source": [
    "# obtaining the weights\n",
    "model.coefs_"
   ]
  },
  {
   "cell_type": "markdown",
   "metadata": {
    "id": "uHZecwroB4HV"
   },
   "source": [
    "# Use the `intercepts_` attribute of the model to obtain the biases."
   ]
  },
  {
   "cell_type": "code",
   "execution_count": null,
   "metadata": {
    "colab": {
     "base_uri": "https://localhost:8080/"
    },
    "id": "qfjZROeT52ws",
    "outputId": "b41e4b3b-3007-43ee-ca7b-a5134ece9f79"
   },
   "outputs": [],
   "source": [
    "# obtaining the biases\n",
    "model.intercepts_"
   ]
  },
  {
   "cell_type": "code",
   "execution_count": null,
   "metadata": {
    "id": "-czrJ9TPB0eZ"
   },
   "outputs": [],
   "source": []
  }
 ],
 "metadata": {
  "accelerator": "GPU",
  "colab": {
   "gpuType": "V100",
   "machine_shape": "hm",
   "provenance": []
  },
  "kernelspec": {
   "display_name": "Python 3 (ipykernel)",
   "language": "python",
   "name": "python3"
  },
  "language_info": {
   "codemirror_mode": {
    "name": "ipython",
    "version": 3
   },
   "file_extension": ".py",
   "mimetype": "text/x-python",
   "name": "python",
   "nbconvert_exporter": "python",
   "pygments_lexer": "ipython3",
   "version": "3.12.2"
  }
 },
 "nbformat": 4,
 "nbformat_minor": 4
}
