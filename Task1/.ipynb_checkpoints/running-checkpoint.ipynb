{
 "cells": [
  {
   "cell_type": "markdown",
   "metadata": {
    "id": "O5MX0wEN4Nuj"
   },
   "source": [
    "<img src=\"https://pa-legg.github.io/images/uwe_banner.png\">\n",
    "\n",
    "# UFCFFY-15-M Cyber Security Analytics 23-24\n",
    "\n",
    "## Portfolio Assignment: Worksheet 1\n",
    "## Investigate a web server application logs to identify malicious attack activity using Python data science libraries\n",
    "---\n",
    "\n",
    "For this task, the company **\"UWEtech\"** have enlisted your support as a security data analyst. They suspect some kind of attack on their web server application, however they are unable to diagnose what has happened exactly, or which of their users have caused the attack. The company have provided you with their recent log data records. You will need to complete a series of tasks to examine the data further, and then expand your investigation to uncover any malicious activity.\n",
    "\n",
    "**Dataset**: You will be randomly issued a **unique dataset** based on your UWE username - **failure to use the dataset assigned to your username will result in a zero grade**. Please see the folder ***\"Portfolio Assignment\"*** under the Assignment tab on Blackboard for further detail related to the access and download of the necessary dataset.\n",
    "\n",
    "### Assessment and Marking\n",
    "---\n",
    "The completion of this worksheet is worth **20%** of your portfolio assignment for the UFCFFY-15-M Cyber Security Analytics (CSA) module. Each question states the possible marks available for a correct answer. Where a question is worth more than 1 mark, a partial solution to the question may warrant partial marks.\n",
    "\n",
    "### Submission Documents\n",
    "---\n",
    "\n",
    "Your submission for this task should include:\n",
    "\n",
    "- **1 Jupyter Notebook file (*.ipynb)**\n",
    "\n",
    "You should complete your work using the ipynb file provided (i.e., this document). Once you have completed your work, you should ensure that all code cells have been executed and then you should save your notebook. **Please note: Staff will NOT execute your notebook during marking. It is your responsibility to ensure that your saved notebook shows the code cell outputs as required.**\n",
    "\n",
    "The deadline for your portfolio submission is **THURSDAY 2ND MAY @ 14:00**. This assignment is eligible for the [48-hour late submission window](https://www.uwe.ac.uk/study/academic-information/personal-circumstances/late-submission-window), however module staff will not be able to assist with any queries after the deadline.\n",
    "\n",
    "Your portfolio submitted to Blackboard must contain 3 independent documents:\n",
    "\n",
    "- ***STUDENT_ID-TASK1.ipynb*** (your iPYNB with all cells executed)\n",
    "- ***STUDENT_ID-TASK2.ipynb*** (your iPYNB with all cells executed)\n",
    "- ***STUDENT_ID-TASK3.pdf*** (a PDF report of your research investigation)\n",
    "\n",
    "### Contact\n",
    "---\n",
    "\n",
    "Questions about this assignment should be directed to your module leader (Phil.Legg@uwe.ac.uk). You should use the [online Q&A form](https://forms.office.com/e/yxFJZDraRG) to ask questions related to this module and this assignment, as well as utilising the on-site teaching sessions.\n",
    "\n",
    "---"
   ]
  },
  {
   "cell_type": "markdown",
   "metadata": {
    "id": "S98sKjll4Nuk"
   },
   "source": [
    "# Student ID: 23008852\n",
    "\n",
    "- **By submitting this assignment to Blackboard as part of your portfolio, I declare that the submission is my own work.**\n",
    "\n",
    "***"
   ]
  },
  {
   "cell_type": "code",
   "execution_count": 1,
   "metadata": {
    "id": "8VQ7rt5F4Nuk"
   },
   "outputs": [],
   "source": [
    "import matplotlib.pyplot as plt\n",
    "plt.style.use('ggplot')\n",
    "import pandas as pd\n",
    "import numpy as np\n",
    "import networkx as nx\n",
    "import seaborn as sns\n",
    "pd.set_option('display.max_rows', 20)\n",
    "pd.set_option('display.max_columns', 20)\n",
    "import warnings\n",
    "warnings.filterwarnings('ignore')"
   ]
  },
  {
   "cell_type": "markdown",
   "metadata": {
    "id": "f4TwrZPn4Nul"
   },
   "source": [
    "In the cell below, you will need to change `data_file` to your own specific data filename. The example data file is purely to demonstrate some initial steps for your investigation and should not be used."
   ]
  },
  {
   "cell_type": "code",
   "execution_count": 3,
   "metadata": {
    "id": "Kg8pc77K4Nul"
   },
   "outputs": [],
   "source": [
    "data_file = './y232-wang_2024jan_dataset.txt'"
   ]
  },
  {
   "cell_type": "code",
   "execution_count": null,
   "metadata": {
    "colab": {
     "base_uri": "https://localhost:8080/",
     "height": 825
    },
    "id": "T_-xegvO4Nul",
    "outputId": "4c636036-1fb9-4895-e53e-9508905ee453"
   },
   "outputs": [],
   "source": [
    "# Load in the data set as required\n",
    "data = pd.read_csv(data_file, sep=r'\\s+')\n",
    "# original\n",
    "# data = pd.read_csv(data_file, delim_whitespace=True)\n",
    "temp_df = data[data.columns[:-1]]\n",
    "temp_df.columns = data.columns[1:]\n",
    "data = temp_df\n",
    "data['datetime'] = pd.to_datetime(data['date'] + \" \" + data['time'])\n",
    "data"
   ]
  },
  {
   "cell_type": "markdown",
   "metadata": {
    "id": "RNPloOa84Nul"
   },
   "source": [
    "### Question 1: Show how often each of the unique machines (defined by client IP address 'c-ip') have accessed this web server application? (1 Mark)\n",
    "\n",
    "*Hint: Think about how you would count the occurrence of all possible values within a Dataframe column.*"
   ]
  },
  {
   "cell_type": "code",
   "execution_count": null,
   "metadata": {
    "colab": {
     "base_uri": "https://localhost:8080/",
     "height": 423
    },
    "id": "ABRxXSy24Nul",
    "outputId": "d12c10f9-534c-4666-c73e-27ba972c6def"
   },
   "outputs": [],
   "source": [
    "# Q1 ANSWER\n",
    "# Count the unique client IP addresses and print the outputs in order\n",
    "def factor_col(col):\n",
    "    factor = pd.Categorical(col)\n",
    "    return pd.Series(factor).value_counts(sort=False)\n",
    "\n",
    "df = pd.DataFrame(data['c-ip'])\n",
    "\n",
    "# count the numbers of each client IP address by following the original order in the array\n",
    "\n",
    "f_cip = pd.DataFrame(factor_col(df['c-ip']))\n",
    "\n",
    "# c-ips are sorted in a desending order\n",
    "sort_f_cip = f_cip.sort_values('count', ascending=False)\n",
    "sort_f_cip"
   ]
  },
  {
   "cell_type": "markdown",
   "metadata": {
    "id": "ttG47gO24Num"
   },
   "source": [
    "### Question 2: Show how often each of the possible unique URLs (defined by 'cs(Referer)') have been accessed within the dataset? (1 Mark)\n",
    "\n",
    "*Hint: Think about how you would count the occurrence of all possible values within a Dataframe column.*"
   ]
  },
  {
   "cell_type": "code",
   "execution_count": null,
   "metadata": {
    "colab": {
     "base_uri": "https://localhost:8080/",
     "height": 363
    },
    "id": "PUpdfAPe4Num",
    "outputId": "c25e6073-f8f7-494a-d4e6-83a7602f075a"
   },
   "outputs": [],
   "source": [
    "\n",
    "# Q2 ANSWER\n",
    "# Count the possible unique URLs 'cs(Referer)'\n",
    "def factor_col(col):\n",
    "    factor = pd.Categorical(col)\n",
    "    return pd.Series(factor).value_counts(sort=False)\n",
    "\n",
    "# Count the numbers of the possible unique URLs 'cs(Referer)'\n",
    "# Including '-'\n",
    "df = pd.DataFrame(data['cs(Referer)'])\n",
    "cre_ct = factor_col(df['cs(Referer)'])\n",
    "\n",
    "# Remove '-' URLs\n",
    "\n",
    "rrt_df = data[data['cs(Referer)'] != \"-\"]\n",
    "\n",
    "# Count the numbers of the possible unique URLs 'cs(Referer)'\n",
    "# Without '-'\n",
    "cre = rrt_df['cs(Referer)']\n",
    "cre_ct_02 = pd.Series(cre).value_counts()\n",
    "pd.DataFrame(cre_ct_02)"
   ]
  },
  {
   "cell_type": "markdown",
   "metadata": {
    "id": "P1zjlbxQ4Num"
   },
   "source": [
    "### Question 3: Show how often each client IP has accessed each URL? (1 Mark)\n",
    "\n",
    "*Hint: Think about how you would count the occurrence of all possible pairs of values within multiple Dataframe columns.*"
   ]
  },
  {
   "cell_type": "code",
   "execution_count": null,
   "metadata": {
    "colab": {
     "base_uri": "https://localhost:8080/",
     "height": 475
    },
    "id": "t016Ouuj4Num",
    "outputId": "ae27c815-dda4-428e-c7c5-e44098ba6d42"
   },
   "outputs": [],
   "source": [
    "# Q3 ANSWER\n",
    "# all '-' in URLs are removed in rrt_df\n",
    "xtab = pd.crosstab(rrt_df['c-ip'], rrt_df['cs(Referer)'])\n",
    "xtab"
   ]
  },
  {
   "cell_type": "code",
   "execution_count": null,
   "metadata": {
    "id": "uAx4ppoD4Num"
   },
   "outputs": [],
   "source": []
  },
  {
   "cell_type": "markdown",
   "metadata": {
    "id": "xt0rGbgN4Num"
   },
   "source": [
    "### Question 4: Filter the data to show all rows where 'cs-uri-query' starts with the string 'v='. (1 Mark)"
   ]
  },
  {
   "cell_type": "code",
   "execution_count": null,
   "metadata": {
    "colab": {
     "base_uri": "https://localhost:8080/",
     "height": 825
    },
    "id": "HbW3mUmE4Num",
    "outputId": "960aac9f-9329-4b69-d680-7b9b03bdf8f4"
   },
   "outputs": [],
   "source": [
    "# Q4 ANSWER\n",
    "\n",
    "# Extract all rows where 'cs-uri-query' starts with the string 'v='\n",
    "df = pd.DataFrame(data)\n",
    "\n",
    "df['cuq'] = df['cs-uri-query']\n",
    "df['cuq'] = df['cuq'].str.contains('v=', regex=True)\n",
    "df[df['cuq'] == True ]\n"
   ]
  },
  {
   "cell_type": "markdown",
   "metadata": {
    "id": "g4dd3vru4Num"
   },
   "source": [
    "### Question 5: Filter the data to show all rows where 'cs(User-Agent)' contain the string 'Win64? (1 Mark)"
   ]
  },
  {
   "cell_type": "code",
   "execution_count": null,
   "metadata": {
    "colab": {
     "base_uri": "https://localhost:8080/",
     "height": 825
    },
    "id": "OiqfwWq_4Num",
    "outputId": "4811baa5-585a-4bc7-a64c-4ee65c8af2ca"
   },
   "outputs": [],
   "source": [
    "# Q5 ANSWER\n",
    "df = pd.DataFrame(data)\n",
    "# Extract all rows where 'cs(User-Agent)' contain the string 'Win64'\n",
    "df['cua'] = df['cs(User-Agent)']\n",
    "df['cua_win64'] = df['cua'].str.contains('Win64', regex=True )\n",
    "df[df['cua_win64'] == True ]"
   ]
  },
  {
   "cell_type": "markdown",
   "metadata": {
    "id": "Ods0eWaQ4Nun"
   },
   "source": [
    "### Question 6: Filter the data to show all rows where 'sc-status' is equal to 404, before 07:00AM? (1 Mark)"
   ]
  },
  {
   "cell_type": "code",
   "execution_count": null,
   "metadata": {
    "colab": {
     "base_uri": "https://localhost:8080/",
     "height": 825
    },
    "id": "4kTE03DB4Nun",
    "outputId": "f04f389d-ea7e-471e-d085-d692cbd96c11"
   },
   "outputs": [],
   "source": [
    "# Q6 ANSWER\n",
    "# Extract all rows where 'sc-status' is equal to 404, before 07:00AM\n",
    "df = pd.DataFrame(data)\n",
    "ss_df = df[(df['sc-status'] == 404) & (pd.to_datetime(df['time']) < pd.to_datetime('07:00:00')) ]\n",
    "ss_df"
   ]
  },
  {
   "cell_type": "markdown",
   "metadata": {
    "id": "8PBSxJ4p4Nun"
   },
   "source": [
    "### Question 7: Plot a Bar Chart showing the number of entries for each value in 'sc-status'. (1 Mark)\n",
    "\n",
    "*Hint: Matplotlib and Pandas are closely linked - some pandas functions have matplotlib functions embedded. Read the documentation for more detail.*\n"
   ]
  },
  {
   "cell_type": "code",
   "execution_count": null,
   "metadata": {
    "colab": {
     "base_uri": "https://localhost:8080/",
     "height": 651
    },
    "id": "5ANzt1Jy4Nun",
    "outputId": "91a967b8-dda6-4b15-b8a7-c2dd5e33f2cd"
   },
   "outputs": [],
   "source": [
    "# Q7 ANSWER\n",
    "\n",
    "plt.figure(figsize=(8,7))\n",
    "sns.countplot(x='sc-status',data=data, hue='sc-status', palette='rocket_r')\n",
    "plt.title('Count of sc-status')  # Add title\n",
    "plt.xlabel('Count')\n",
    "plt.ylabel('SC-STATUS')\n",
    "plt.show()"
   ]
  },
  {
   "cell_type": "markdown",
   "metadata": {
    "id": "JVg88Zma4Nun"
   },
   "source": [
    "### Question 8: Plot a line chart that shows the number of records (Y-axis) vs each day within the dataset (X-axis). (1 Mark)"
   ]
  },
  {
   "cell_type": "code",
   "execution_count": null,
   "metadata": {
    "colab": {
     "base_uri": "https://localhost:8080/"
    },
    "id": "gEIz7Zgo4Nun",
    "outputId": "406b8150-3d57-46d9-a47e-f69d9fb49a83"
   },
   "outputs": [],
   "source": [
    "df = pd.DataFrame(data)\n",
    "# sort by date\n",
    "da_ct = factor_col(df['date'])\n",
    "da=da_ct.to_dict()\n",
    "da"
   ]
  },
  {
   "cell_type": "code",
   "execution_count": null,
   "metadata": {
    "colab": {
     "base_uri": "https://localhost:8080/",
     "height": 607
    },
    "id": "XXFKm9kX4Nun",
    "outputId": "6da9f0c5-4bee-48d3-c4dc-a8f0186af878"
   },
   "outputs": [],
   "source": [
    "# Q8 ANSWER\n",
    "\n",
    "# Convert the dictionary 'da' into a DataFrame\n",
    "dff = pd.DataFrame(list(da.items()), columns=['Date', 'Value'])\n",
    "\n",
    "# Set the 'Date' column as datetime type\n",
    "dff['Date'] = pd.to_datetime(dff['Date'])\n",
    "\n",
    "# Create line plot using seaborn\n",
    "plt.figure(figsize=(14, 6))\n",
    "sns.lineplot(x='Date', y='Value', data=dff, marker='*', markersize=17)\n",
    "plt.title('Each day within the dataset ')\n",
    "plt.xlabel('Date')\n",
    "plt.ylabel('Number of records')\n",
    "plt.xticks(rotation=45)  # Rotate x-axis labels for better readability\n",
    "plt.tight_layout()  # Adjust layout to prevent clipping of labels\n",
    "plt.show()"
   ]
  },
  {
   "cell_type": "markdown",
   "metadata": {
    "id": "DAwm6kb64Nun"
   },
   "source": [
    "### (Advanced) Question 9: Filter and Plot a Network graph using the NetworkX library based on the criteria below (4 Marks)\n",
    "\n",
    "* Filter the data to only the 20 most active IP addresses and plot this using a Network chart **(1 Mark)**.\n",
    "* (Advanced) Scale each client node within the chart based on the amount of activity **(3 Marks)**."
   ]
  },
  {
   "cell_type": "code",
   "execution_count": null,
   "metadata": {
    "colab": {
     "base_uri": "https://localhost:8080/"
    },
    "id": "aqJ4V-_A4Nun",
    "outputId": "e3b67eb8-ddca-45dd-e3d1-c78bbe1ed24a"
   },
   "outputs": [],
   "source": [
    "# Q9 ANSWER\n",
    "# Count the numbers\n",
    "def factor_col(col):\n",
    "    factor = pd.Categorical(col)\n",
    "    return pd.Series(factor).value_counts(sort=False)\n",
    "\n",
    "# ----------------------------------------------------------------------------------------------------------\n",
    "# Q9.1 Filter the data to only the 20 most active IP addresses and plot this using a Network chart (1 Mark).\n",
    "# ----------------------------------------------------------------------------------------------------------\n",
    "\n",
    "df = pd.DataFrame(data['c-ip'])\n",
    "\n",
    "# count the numbers of each client IP address by following the original order in the array\n",
    "f_cip = pd.DataFrame(factor_col(df['c-ip']))\n",
    "\n",
    "s_cip = data['s-ip'].unique()\n",
    "s_cip\n"
   ]
  },
  {
   "cell_type": "code",
   "execution_count": null,
   "metadata": {
    "colab": {
     "base_uri": "https://localhost:8080/"
    },
    "id": "v_z0w8yt4Nuo",
    "outputId": "929c092d-0f35-4f6c-d6ba-2af6d13a276c"
   },
   "outputs": [],
   "source": [
    "s_cip = {cip: 1 for cip in s_cip}\n",
    "s_cip"
   ]
  },
  {
   "cell_type": "code",
   "execution_count": null,
   "metadata": {
    "colab": {
     "base_uri": "https://localhost:8080/"
    },
    "id": "BEqA12ah4Nuo",
    "outputId": "a1156aaf-155e-42db-ec53-5a02451b9673"
   },
   "outputs": [],
   "source": [
    "# c-ips are sorted in a desending order\n",
    "sort_f_cip = f_cip.sort_values('count', ascending=False)\n",
    "\n",
    "\n",
    "# Top 20 Active IPs, sorted in descending order\n",
    "net_ip = sort_f_cip[:20]\n",
    "graph_dict = net_ip.to_dict()\n",
    "node_data = graph_dict['count']\n",
    "node_data"
   ]
  },
  {
   "cell_type": "code",
   "execution_count": null,
   "metadata": {
    "colab": {
     "base_uri": "https://localhost:8080/",
     "height": 540
    },
    "id": "bsdAQGWB4Nuo",
    "outputId": "8cd69031-8fab-4a62-a9b2-3a8022c39aa3"
   },
   "outputs": [],
   "source": [
    "import networkx as nx\n",
    "import matplotlib.pyplot as plt\n",
    "\n",
    "\n",
    "# Create a NetworkX graph\n",
    "G = nx.Graph()\n",
    "\n",
    "# Add nodes to the graph and set node sizes based on counts\n",
    "for node, count in node_data.items():\n",
    "    G.add_node(node, count=count)\n",
    "\n",
    "# Add s_cip node(s)\n",
    "for cip in s_cip:\n",
    "    G.add_node(cip)\n",
    "\n",
    "# Connect each node in node_data to s_cip node(s)\n",
    "for node in node_data.keys():\n",
    "    for cip in s_cip:\n",
    "        G.add_edge(node, cip)\n",
    "\n",
    "# Draw the network chart\n",
    "nx.draw(G, with_labels=True, labels={node: f\"{node}\\nCount: {node_data[node]}\" if node in node_data else f\"{node}\\nCount: 1\" for node in G.nodes()},\n",
    "        node_color='skyblue', node_size=500, font_size=6, edge_color='gray')\n",
    "\n",
    "plt.title(\"Network Chart with Connections to s_ip\")\n",
    "plt.show()"
   ]
  },
  {
   "cell_type": "code",
   "execution_count": null,
   "metadata": {
    "colab": {
     "base_uri": "https://localhost:8080/",
     "height": 540
    },
    "id": "yaXhSEFN4Nuo",
    "outputId": "1f16869d-73cf-427c-cef8-a5aed2cfd9f7"
   },
   "outputs": [],
   "source": [
    "\n",
    "# Create a NetworkX graph\n",
    "G = nx.Graph()\n",
    "\n",
    "# Add nodes to the graph and set node sizes based on counts\n",
    "for node, count in node_data.items():\n",
    "    # Adjust the size based on count\n",
    "    G.add_node(node, count=count, size=count * 10)\n",
    "\n",
    "# Add s_cip node(s)\n",
    "for cip, size in s_cip.items():\n",
    "    G.add_node(cip, size=size)\n",
    "\n",
    "# Connect each node in node_data to s_cip node(s)\n",
    "for node in node_data.keys():\n",
    "    for cip in s_cip.keys():\n",
    "        G.add_edge(node, cip)\n",
    "\n",
    "# Draw the network chart\n",
    "nx.draw(G, with_labels=True, labels={node: f\"{node}\\nCount: {node_data[node]}\" if node in node_data else f\"{node}\\nCount: 1\" for node in G.nodes()},\n",
    "        node_color='coral', node_size=[G.nodes[node].get('size', 100) for node in G.nodes()], font_size=6, edge_color='gray')\n",
    "\n",
    "plt.title(\"Scale Each Client Node Based On The Amount Of Activity\")\n",
    "plt.show()\n"
   ]
  },
  {
   "cell_type": "markdown",
   "metadata": {
    "id": "BZjmYXK74Nuo"
   },
   "source": [
    "### Question 10:  Investigate the dataset further to uncover the suspicious activity (8 marks)\n",
    "\n",
    "This unguided question will be graded against the following criteria:\n",
    "\n",
    "- Identifying all suspicious activity within your dataset **(3 Marks)**\n",
    "- Analytical reasoning of investigating why this activity is suspicious **(3 Marks)**\n",
    "- Clarity and presentation **(2 Marks)**\n",
    "\n",
    "You should state all suspicious IP addresses that you have identified as part of your conclusion, and you should explain in clear written English how you have uncovered this information, based on how you have used Python code for data investigation. This should be clear and concise, and you only need to include code that helped you to solve the challenge."
   ]
  },
  {
   "cell_type": "markdown",
   "metadata": {
    "id": "441zNVVV4Nup"
   },
   "source": []
  },
  {
   "cell_type": "markdown",
   "metadata": {
    "id": "8nzo_HZU4Nup"
   },
   "source": [
    "# 1 Identifying all suspicious activity within your dataset\n"
   ]
  },
  {
   "cell_type": "markdown",
   "metadata": {
    "id": "oyPZW0B14Nup"
   },
   "source": [
    "## 1.1 Step 1. Check orginal data\n",
    "- Check Original data to find some suspicious elements as a starting point for investigation.\n",
    "- Check number of daily data/200/404"
   ]
  },
  {
   "cell_type": "code",
   "execution_count": null,
   "metadata": {
    "colab": {
     "base_uri": "https://localhost:8080/",
     "height": 825
    },
    "id": "P3BSh2Q36Gf2",
    "outputId": "2ef59c38-9e6c-422b-90e1-be12a3a910a0"
   },
   "outputs": [],
   "source": [
    "data"
   ]
  },
  {
   "cell_type": "markdown",
   "metadata": {},
   "source": [
    "### Step 1.2  Calculate numbers of 'GET' & 'POST'"
   ]
  },
  {
   "cell_type": "code",
   "execution_count": null,
   "metadata": {},
   "outputs": [],
   "source": [
    "# Count the numbers\n",
    "def factor_col(col):\n",
    "    factor = pd.Categorical(col)\n",
    "    return pd.Series(factor).value_counts(sort=False)\n",
    "    \n",
    "df = pd.DataFrame(data)\n",
    "\n",
    "# count the numbers of each client IP address by following the original order in the array\n",
    "f_cs = pd.DataFrame(factor_col(df['cs-method']))\n",
    "f_cs"
   ]
  },
  {
   "cell_type": "markdown",
   "metadata": {},
   "source": [
    "### Step 1.3 Check Successful Responses 200\n",
    "- So the successful 'GET' & 'POST' methods can viewed "
   ]
  },
  {
   "cell_type": "code",
   "execution_count": null,
   "metadata": {},
   "outputs": [],
   "source": [
    "# Extract all rows where 'sc-status' is 200\n",
    "csdf = df[(df['sc-status'] == 200)]\n",
    "csdf"
   ]
  },
  {
   "cell_type": "markdown",
   "metadata": {},
   "source": [
    "### Step 1.4 Check the number of 'GET' & 'POST'"
   ]
  },
  {
   "cell_type": "code",
   "execution_count": null,
   "metadata": {},
   "outputs": [],
   "source": [
    "# Count the numbers\n",
    "def factor_col(col):\n",
    "    factor = pd.Categorical(col)\n",
    "    return pd.Series(factor).value_counts(sort=False)\n",
    "    \n",
    "\n",
    "# count the numbers of each client IP address by following the original order in the array\n",
    "f_cs02 = pd.DataFrame(factor_col(csdf['cs-method']))\n",
    "f_cs02"
   ]
  },
  {
   "cell_type": "markdown",
   "metadata": {},
   "source": [
    "### Step 1.5 List the suspicious IP addresses\n",
    "- `194.245.32.53` has the highest counts on 'GET' mthod.\n",
    "- `92.215.11.248` and `94.177.126.101` have the near numbers respectively 131 and 128."
   ]
  },
  {
   "cell_type": "code",
   "execution_count": null,
   "metadata": {},
   "outputs": [],
   "source": [
    "# Count the numbers in a descending order\n",
    "def factor_coll(col):\n",
    "    factor = pd.Categorical(col)\n",
    "    return pd.Series(factor).value_counts(sort=True)\n",
    "\n",
    "csip = pd.DataFrame(factor_coll(csdf['c-ip']))\n",
    "csip"
   ]
  },
  {
   "cell_type": "markdown",
   "metadata": {},
   "source": [
    "# 2 Analytical reasoning of investigating why this activity is suspicious"
   ]
  },
  {
   "cell_type": "markdown",
   "metadata": {},
   "source": [
    "## 2.1 Investigate activities of the suspicious ip `194.245.32.53`"
   ]
  },
  {
   "cell_type": "markdown",
   "metadata": {},
   "source": [
    "- Check the activities of `194.245.32.53`"
   ]
  },
  {
   "cell_type": "code",
   "execution_count": null,
   "metadata": {},
   "outputs": [],
   "source": [
    "# Extract all rows where 'sc-status' is 200\n",
    "ip01 = df[(df['c-ip'] == '194.245.32.53')]\n",
    "ip01"
   ]
  },
  {
   "cell_type": "markdown",
   "metadata": {},
   "source": [
    "## 2.2 Check the most interactive date\n",
    "- `2023-01-29` was the date `194.245.32.53` was most active."
   ]
  },
  {
   "cell_type": "code",
   "execution_count": null,
   "metadata": {},
   "outputs": [],
   "source": [
    "# Count the numbers in a descending order\n",
    "def factor_coll(col):\n",
    "    factor = pd.Categorical(col)\n",
    "    return pd.Series(factor).value_counts(sort=True)\n",
    "\n",
    "ip01_dates = pd.DataFrame(factor_coll(ip01['date']))\n",
    "ip01_dates"
   ]
  },
  {
   "cell_type": "markdown",
   "metadata": {},
   "source": [
    "### 2.3 Investigate `2023-01-29`\n",
    "- I will check `time-taken` to know the time of this IP `194.245.32.53` spent on 'GET' or 'POST'"
   ]
  },
  {
   "cell_type": "code",
   "execution_count": null,
   "metadata": {},
   "outputs": [],
   "source": [
    "ip02 = ip01[ip01['date'] == '2023-01-29']\n",
    "ip02"
   ]
  },
  {
   "cell_type": "markdown",
   "metadata": {},
   "source": [
    "### 2.3 Check the frequency of `cs-method`\n",
    "- IP `194.245.32.53` had retrieved data from the server most of the time."
   ]
  },
  {
   "cell_type": "code",
   "execution_count": null,
   "metadata": {},
   "outputs": [],
   "source": [
    "# Count the numbers in a descending order\n",
    "def factor_coll(col):\n",
    "    factor = pd.Categorical(col)\n",
    "    return pd.Series(factor).value_counts(sort=True)\n",
    "\n",
    "ip03 = pd.DataFrame(factor_coll(ip02['cs-method']))\n",
    "ip03"
   ]
  },
  {
   "cell_type": "markdown",
   "metadata": {},
   "source": [
    "### 2.4 Check POST Method\n",
    "- According to the result below, the URL of the requested URL `https://uwetech.co.uk/login.aspx` has been changed permanently. This indicates that the website is employing some form of redirection or user session management\n",
    "- Same IP address `194.245.32.53` login as two different users `rl236451` and `mr257125` on `2023-01-29`."
   ]
  },
  {
   "cell_type": "code",
   "execution_count": null,
   "metadata": {},
   "outputs": [],
   "source": [
    "ip04 = ip02[ip02['cs-method'] == 'POST']\n",
    "ip04"
   ]
  },
  {
   "cell_type": "markdown",
   "metadata": {},
   "source": [
    "# 3 Conclusion\n",
    "- In accordance with the investigation, IP address `194.245.32.53` had unusual highest number of activities(188 'GET' activities in January).\n",
    "- `2023-01-29` is the date that `194.245.32.53` was most active.\n",
    "- `194.245.32.53` had retrieved data from the server most of the time (81 'GET' activities on `2023-01-29`).\n",
    "- The URL of the requested URL `https://uwetech.co.uk/login.aspx` has been changed permanently. This indicates that the website is employing some form of redirection or user session management. It could be worth further investigation for this suspicious login event.\n",
    "- Same IP address `194.245.32.53` login as two different users `rl236451` and `mr257125` on `2023-01-29`."
   ]
  },
  {
   "cell_type": "markdown",
   "metadata": {},
   "source": [
    "# Appendix"
   ]
  },
  {
   "cell_type": "markdown",
   "metadata": {},
   "source": [
    "### Figure 1 - Line Chart of Daily Data "
   ]
  },
  {
   "cell_type": "code",
   "execution_count": null,
   "metadata": {},
   "outputs": [],
   "source": [
    "\n",
    "# Convert the dictionary 'da' into a DataFrame\n",
    "dff = pd.DataFrame(list(da.items()), columns=['Date', 'Value'])\n",
    "\n",
    "# Set the 'Date' column as datetime type\n",
    "dff['Date'] = pd.to_datetime(dff['Date'])\n",
    "\n",
    "# Create line plot using seaborn\n",
    "plt.figure(figsize=(14, 6))\n",
    "sns.set_theme(style=\"darkgrid\")\n",
    "\n",
    "# sns.lineplot(x='Date', y='Value', data=jj, marker='o')\n",
    "sns.lineplot(x='Date', y='Value', data=dff, marker='v', markersize=13)\n",
    "\n",
    "\n",
    "plt.title('Daily data')\n",
    "plt.xlabel('Date')\n",
    "plt.ylabel('Number of records')\n",
    "plt.xticks(rotation=45)  # Rotate x-axis labels for better readability\n",
    "plt.tight_layout()  # Adjust layout to prevent clipping of labels\n",
    "plt.show()"
   ]
  },
  {
   "cell_type": "markdown",
   "metadata": {},
   "source": [
    "### Figure 2 - Dictionary of suspicious activities of `194.245.32.53`"
   ]
  },
  {
   "cell_type": "code",
   "execution_count": null,
   "metadata": {},
   "outputs": [],
   "source": [
    "import datetime\n",
    "\n",
    "# Initialize an empty dictionary\n",
    "date_dict = {}\n",
    "\n",
    "# Start date\n",
    "start_date = datetime.date(2023, 1, 1)\n",
    "\n",
    "# Iterate over the range from 1 to 31\n",
    "for i in range(1, 31):\n",
    "    # Calculate the date for the current iteration\n",
    "    current_date = start_date + datetime.timedelta(days=i-1)\n",
    "    if i < 10:\n",
    "        xx = df[(df['c-ip'] == '194.245.32.53') &(df['date'] == '2023-01-0'+str(i))]\n",
    "    else:\n",
    "        xx = df[(df['c-ip'] == '194.245.32.53')&(df['date'] == '2023-01-'+str(i))]\n",
    "    len_x = len(xx)\n",
    "    # Add the date and corresponding number to the dictionary\n",
    "    date_dict[current_date.strftime('%Y-%m-%d')] = len_x\n",
    "\n",
    "# Print the dictionary\n",
    "for key, value in date_dict.items():\n",
    "    print(key, value)\n"
   ]
  },
  {
   "cell_type": "markdown",
   "metadata": {},
   "source": [
    "### Figure 3 - Line Chart of Suspicious Sctivities of `194.245.32.53`"
   ]
  },
  {
   "cell_type": "code",
   "execution_count": null,
   "metadata": {},
   "outputs": [],
   "source": [
    "# Convert the dictionary 'date_dict' into a DataFrame\n",
    "jj = pd.DataFrame(list(date_dict.items()), columns=['Date', 'Value'])\n",
    "\n",
    "# Set the 'Date' column as datetime type\n",
    "jj['Date'] = pd.to_datetime(jj['Date'])\n",
    "\n",
    "# Create line plot using seaborn\n",
    "plt.figure(figsize=(14, 6))\n",
    "sns.set_theme(style=\"darkgrid\", palette=\"Spectral\")\n",
    "sns.lineplot(x='Date', y='Value', data=jj, marker='o', markersize=10)\n",
    "plt.title('Activit of `194.245.32.53`')\n",
    "plt.xlabel('Date')\n",
    "plt.ylabel('Number of records')\n",
    "plt.xticks(rotation=45)  # Rotate x-axis labels for better readability\n",
    "plt.tight_layout()  # Adjust layout to prevent clipping of labels\n",
    "plt.show()"
   ]
  },
  {
   "cell_type": "markdown",
   "metadata": {},
   "source": [
    "# Reference\n",
    "- [Python Seaborn Tutorial For Beginners: Start Visualizing Data](https://www.datacamp.com/tutorial/seaborn-python-tutorial)\n",
    "- [NetworkX - Creating a graph](https://networkx.org/documentation/stable/tutorial.html#nx-guides)\n",
    "- [HTTP response status codes](https://developer.mozilla.org/en-US/docs/Web/HTTP/Status#successful_responses)\n",
    "- [Cross-Origin Resource Sharing (CORS)](https://developer.mozilla.org/en-US/docs/Web/HTTP/CORS)"
   ]
  },
  {
   "cell_type": "code",
   "execution_count": null,
   "metadata": {},
   "outputs": [],
   "source": []
  }
 ],
 "metadata": {
  "colab": {
   "provenance": []
  },
  "kernelspec": {
   "display_name": "Python 3 (ipykernel)",
   "language": "python",
   "name": "python3"
  },
  "language_info": {
   "codemirror_mode": {
    "name": "ipython",
    "version": 3
   },
   "file_extension": ".py",
   "mimetype": "text/x-python",
   "name": "python",
   "nbconvert_exporter": "python",
   "pygments_lexer": "ipython3",
   "version": "3.12.2"
  }
 },
 "nbformat": 4,
 "nbformat_minor": 4
}
